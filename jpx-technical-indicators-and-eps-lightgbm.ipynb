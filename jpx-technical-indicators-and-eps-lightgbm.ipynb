{
 "cells": [
  {
   "cell_type": "code",
   "execution_count": 1,
   "metadata": {
    "_cell_guid": "b1076dfc-b9ad-4769-8c92-a6c4dae69d19",
    "_kg_hide-input": true,
    "_uuid": "8f2839f25d086af736a60e9eeb907d3b93b6e0e5",
    "execution": {
     "iopub.execute_input": "2022-06-11T19:43:33.812602Z",
     "iopub.status.busy": "2022-06-11T19:43:33.812309Z",
     "iopub.status.idle": "2022-06-11T19:43:37.620093Z",
     "shell.execute_reply": "2022-06-11T19:43:37.618976Z",
     "shell.execute_reply.started": "2022-06-11T19:43:33.812521Z"
    }
   },
   "outputs": [
    {
     "data": {
      "text/html": [
       "<style type='text/css'>\n",
       ".datatable table.frame { margin-bottom: 0; }\n",
       ".datatable table.frame thead { border-bottom: none; }\n",
       ".datatable table.frame tr.coltypes td {  color: #FFFFFF;  line-height: 6px;  padding: 0 0.5em;}\n",
       ".datatable .bool    { background: #DDDD99; }\n",
       ".datatable .object  { background: #565656; }\n",
       ".datatable .int     { background: #5D9E5D; }\n",
       ".datatable .float   { background: #4040CC; }\n",
       ".datatable .str     { background: #CC4040; }\n",
       ".datatable .time    { background: #40CC40; }\n",
       ".datatable .row_index {  background: var(--jp-border-color3);  border-right: 1px solid var(--jp-border-color0);  color: var(--jp-ui-font-color3);  font-size: 9px;}\n",
       ".datatable .frame tbody td { text-align: left; }\n",
       ".datatable .frame tr.coltypes .row_index {  background: var(--jp-border-color0);}\n",
       ".datatable th:nth-child(2) { padding-left: 12px; }\n",
       ".datatable .hellipsis {  color: var(--jp-cell-editor-border-color);}\n",
       ".datatable .vellipsis {  background: var(--jp-layout-color0);  color: var(--jp-cell-editor-border-color);}\n",
       ".datatable .na {  color: var(--jp-cell-editor-border-color);  font-size: 80%;}\n",
       ".datatable .sp {  opacity: 0.25;}\n",
       ".datatable .footer { font-size: 9px; }\n",
       ".datatable .frame_dimensions {  background: var(--jp-border-color3);  border-top: 1px solid var(--jp-border-color0);  color: var(--jp-ui-font-color3);  display: inline-block;  opacity: 0.6;  padding: 1px 10px 1px 5px;}\n",
       "</style>\n"
      ],
      "text/plain": [
       "<IPython.core.display.HTML object>"
      ]
     },
     "metadata": {},
     "output_type": "display_data"
    },
    {
     "data": {
      "text/html": [
       "        <script type=\"text/javascript\">\n",
       "        window.PlotlyConfig = {MathJaxConfig: 'local'};\n",
       "        if (window.MathJax && window.MathJax.Hub && window.MathJax.Hub.Config) {window.MathJax.Hub.Config({SVG: {font: \"STIX-Web\"}});}\n",
       "        if (typeof require !== 'undefined') {\n",
       "        require.undef(\"plotly\");\n",
       "        requirejs.config({\n",
       "            paths: {\n",
       "                'plotly': ['https://cdn.plot.ly/plotly-2.12.1.min']\n",
       "            }\n",
       "        });\n",
       "        require(['plotly'], function(Plotly) {\n",
       "            window._Plotly = Plotly;\n",
       "        });\n",
       "        }\n",
       "        </script>\n",
       "        "
      ]
     },
     "metadata": {},
     "output_type": "display_data"
    }
   ],
   "source": [
    "import warnings, gc\n",
    "import numpy as np \n",
    "import pandas as pd\n",
    "import matplotlib.colors\n",
    "import seaborn as sns\n",
    "import plotly.express as px\n",
    "import plotly.graph_objects as go\n",
    "from plotly.subplots import make_subplots\n",
    "from plotly.offline import init_notebook_mode\n",
    "from datetime import datetime, timedelta\n",
    "from sklearn.model_selection import TimeSeriesSplit\n",
    "from sklearn.metrics import mean_squared_error, mean_absolute_error\n",
    "from lightgbm import LGBMRegressor\n",
    "from decimal import ROUND_HALF_UP, Decimal\n",
    "from tqdm import tqdm\n",
    "import pickle\n",
    "import jpx_tokyo_market_prediction\n",
    "\n",
    "warnings.filterwarnings(\"ignore\")\n",
    "import plotly.figure_factory as ff\n",
    "\n",
    "init_notebook_mode(connected = True)\n",
    "temp = dict(layout=go.Layout(font=dict(family=\"Franklin Gothic\", size=12), width=800))\n",
    "colors = px.colors.qualitative.Plotly"
   ]
  },
  {
   "cell_type": "code",
   "execution_count": 2,
   "metadata": {
    "execution": {
     "iopub.execute_input": "2022-06-11T19:43:37.622380Z",
     "iopub.status.busy": "2022-06-11T19:43:37.622090Z",
     "iopub.status.idle": "2022-06-11T19:43:37.628979Z",
     "shell.execute_reply": "2022-06-11T19:43:37.628235Z",
     "shell.execute_reply.started": "2022-06-11T19:43:37.622348Z"
    }
   },
   "outputs": [],
   "source": [
    "# LightGBM training parameters\n",
    "lgbm_cv_params = {\n",
    "    'n_estimators': 100,\n",
    "    'num_leaves' : 100,\n",
    "    'learning_rate': 0.1,\n",
    "    'colsample_bytree': 0.5,\n",
    "    'subsample': 0.8,\n",
    "    'reg_alpha': 0.4,\n",
    "    'metric': 'mae',\n",
    "    'random_state': 21,\n",
    "    'verbosity': 1,\n",
    "    'force_col_wise': True,\n",
    "    'deterministic': True\n",
    "}\n",
    "\n",
    "lgbm_submit_params = {\n",
    "    'n_estimators': 3000,\n",
    "    'num_leaves' : 100,\n",
    "    'learning_rate': 0.1,\n",
    "    'colsample_bytree': 0.9,\n",
    "    'subsample': 0.8,\n",
    "    'reg_alpha': 0.4,\n",
    "    'metric': 'mae',\n",
    "    'random_state': 21,\n",
    "    'verbosity': 1,\n",
    "    'force_col_wise': True,\n",
    "    'deterministic': True\n",
    "}"
   ]
  },
  {
   "cell_type": "code",
   "execution_count": 3,
   "metadata": {
    "execution": {
     "iopub.execute_input": "2022-06-11T19:43:37.631094Z",
     "iopub.status.busy": "2022-06-11T19:43:37.630694Z",
     "iopub.status.idle": "2022-06-11T19:43:37.645539Z",
     "shell.execute_reply": "2022-06-11T19:43:37.644395Z",
     "shell.execute_reply.started": "2022-06-11T19:43:37.631059Z"
    }
   },
   "outputs": [],
   "source": [
    "# Read csv files\n",
    "\n",
    "def load_data():\n",
    "    print('load_data()')\n",
    "    \n",
    "    dataset_dir=\"../input/jpx-tokyo-stock-exchange-prediction/train_files\"\n",
    "    supplemental_dataset_dir=\"../input/jpx-tokyo-stock-exchange-prediction/supplemental_files\"\n",
    "\n",
    "    df_stock_list = pd.read_csv(\"../input/jpx-tokyo-stock-exchange-prediction/stock_list.csv\")\n",
    "    df_stock_list['Name'] = [i.rstrip().lower().capitalize() for i in df_stock_list['Name']]\n",
    "    df_stock_list['SectorName'] = [i.rstrip().lower().capitalize() for i in df_stock_list['17SectorName']]\n",
    "    df_stock_list['SectorCode'] = [i for i in df_stock_list['17SectorCode']]\n",
    "    df_stock_list['SectorCode'] = df_stock_list['SectorCode'].replace('-', '0').fillna('0')\n",
    "\n",
    "    # List of data files\n",
    "    inputs = {\n",
    "        \"financials\": [f\"{dataset_dir}/financials.csv\", f\"{supplemental_dataset_dir}/financials.csv\"],\n",
    "        #\"options\": [f\"{dataset_dir}/options.csv\", f\"{supplemental_dataset_dir}/options.csv\"],\n",
    "        #\"secondary_stock_prices\": [f\"{dataset_dir}/secondary_stock_prices.csv\", f\"{supplemental_dataset_dir}/secondary_stock_prices.csv\"],\n",
    "        \"stock_prices\": [f\"{dataset_dir}/stock_prices.csv\", f\"{supplemental_dataset_dir}/stock_prices.csv\"],\n",
    "        #\"trades\": [f\"{dataset_dir}/trades.csv\", f\"{supplemental_dataset_dir}/trades.csv\"]\n",
    "    }\n",
    "\n",
    "    # dict_input is a dict of raw input dataframes\n",
    "    dict_input = dict()\n",
    "\n",
    "    example_test_files = {}\n",
    "    for k, v in tqdm(inputs.items()):\n",
    "        _dfs = dict()\n",
    "        for file_name in v:\n",
    "            if 'trades.csv' in file_name:\n",
    "                _dfs[file_name] = pd.read_csv(file_name, parse_dates = ['PublishedDate'])\n",
    "            else:\n",
    "                _dfs[file_name] = pd.read_csv(file_name, parse_dates = ['Date'])\n",
    "\n",
    "        dict_input[k] = pd.concat(_dfs).reset_index(drop = True)\n",
    "\n",
    "        if k in ['financials', 'secondary_stock_prices', 'stock_prices']:\n",
    "            dict_input[k] = dict_input[k].merge(df_stock_list[['SecuritiesCode', 'Name', 'SectorCode']], on = 'SecuritiesCode', how = 'left')\n",
    "            dict_input[k]['SectorCode'] = dict_input[k]['SectorCode'].fillna('0').astype(int)\n",
    "            dict_input[k].sort_values(['Date', 'SecuritiesCode'], inplace = True)\n",
    "        else:\n",
    "            dict_input[k].sort_values('Date', inplace = True)\n",
    "\n",
    "    for k, v in dict_input.items():\n",
    "        print(v.info())\n",
    "\n",
    "    # Dump to pickle file\n",
    "    pickle.dump(dict_input, open('dict_input.pkl', 'wb'))"
   ]
  },
  {
   "cell_type": "code",
   "execution_count": 4,
   "metadata": {
    "execution": {
     "iopub.execute_input": "2022-06-11T19:43:37.649088Z",
     "iopub.status.busy": "2022-06-11T19:43:37.648710Z",
     "iopub.status.idle": "2022-06-11T19:43:37.673048Z",
     "shell.execute_reply": "2022-06-11T19:43:37.672076Z",
     "shell.execute_reply.started": "2022-06-11T19:43:37.649048Z"
    }
   },
   "outputs": [],
   "source": [
    "def adjust_price(df_price):\n",
    "    def generate_adjusted_features(df):\n",
    "        # sort data to generate CumulativeAdjustmentFactor\n",
    "        df = df.sort_values(\"Date\", ascending = True)\n",
    "        \n",
    "        # generate CumulativeAdjustmentFactor\n",
    "        df.loc[:, \"CumulativeAdjustmentFactor\"] = df[\"AdjustmentFactor\"].cumprod().shift(1).fillna(1.0)\n",
    "        \n",
    "        # generate Adjusted prices\n",
    "        for column in [\"Close\", \"Open\", \"High\", \"Low\", \"Volume\"]:\n",
    "            df.loc[:, column] = (\n",
    "                df[column] / df[\"CumulativeAdjustmentFactor\"] if column != \"Volume\" else df[column] * df[\"CumulativeAdjustmentFactor\"]\n",
    "            ).map(lambda x: float(\n",
    "                Decimal(str(x)).quantize(Decimal('0.1'), rounding = ROUND_HALF_UP)))\n",
    "            df.loc[df[column] == 0, column] = np.nan\n",
    "            \n",
    "            # NaN handling\n",
    "            if column == \"Close\":\n",
    "                # First, forward fill for Close\n",
    "                df.loc[:, column] = df.loc[:, column].ffill()\n",
    "            elif column == \"High\" or column == \"Low\" or column == \"Open\":\n",
    "                # High, Low and Open should be the same as Close\n",
    "                df.loc[np.isnan(df[column]), column] = df.loc[np.isnan(df[column]), 'Close']\n",
    "            else:\n",
    "                # Volume should be 0\n",
    "                df.loc[np.isnan(df[column]), column] = 0\n",
    "            \n",
    "        return df\n",
    "    \n",
    "    df_price = df_price.sort_values([\"SecuritiesCode\", \"Date\"], ascending = True)\n",
    "    df_price = df_price.groupby(\"SecuritiesCode\").apply(generate_adjusted_features).reset_index(drop = True)\n",
    "    return df_price\n",
    "\n",
    "def adjust_financial(df_financial):\n",
    "    # Drop invalid row\n",
    "    df_financial = df_financial[~df_financial['DisclosedTime'].isna()]\n",
    "    \n",
    "    # Extract only consolidated financial reports\n",
    "    df_financial = df_financial[df_financial['TypeOfDocument'].str.contains('FinancialStatements_Consolidated')]\n",
    "\n",
    "    # If disclosure time >= 15:00, we can't use the information on the day\n",
    "    df_financial['DisclosedDateTime'] = pd.to_datetime(df_financial['DisclosedUnixTime'], unit = 's')\n",
    "    df_financial['DisclosedDateTime'] = df_financial['DisclosedDateTime'].dt.tz_localize('utc').dt.tz_convert('Asia/Tokyo')\n",
    "    df_financial['Date'] = df_financial['Date'] + (df_financial['DisclosedDateTime'].dt.hour >= 15) * timedelta(days = 1)\n",
    "    \n",
    "    # ToDo: Reflect financial revisions\n",
    "    \n",
    "    # Convert EPS and so on to float\n",
    "    df_financial['EarningsPerShare'] = pd.to_numeric(df_financial[\"EarningsPerShare\"], errors = 'coerce').fillna(0)\n",
    "    df_financial['ForecastEarningsPerShare'] = pd.to_numeric(df_financial[\"ForecastEarningsPerShare\"], errors = 'coerce').fillna(0)\n",
    "    df_financial['NetSales'] = pd.to_numeric(df_financial[\"NetSales\"], errors = 'coerce').fillna(0)\n",
    "    df_financial['Profit'] = pd.to_numeric(df_financial[\"Profit\"], errors = 'coerce').fillna(0)\n",
    "    df_financial['ForecastProfit'] = pd.to_numeric(df_financial[\"ForecastProfit\"], errors = 'coerce').fillna(0)\n",
    "    df_financial['EquityToAssetRatio'] = pd.to_numeric(df_financial[\"EquityToAssetRatio\"], errors = 'coerce').fillna(0)\n",
    "    df_financial['ForecastDividendPerShareAnnual'] = pd.to_numeric(df_financial[\"EquityToAssetRatio\"], errors = 'coerce').fillna(0)\n",
    "    \n",
    "    return df_financial[['Date', 'SecuritiesCode', 'EarningsPerShare', 'ForecastEarningsPerShare', 'NetSales', 'Profit', 'ForecastProfit', 'EquityToAssetRatio', 'ForecastDividendPerShareAnnual']]\n",
    "\n",
    "def adjust_data():\n",
    "    print('adjust_data()')\n",
    "    \n",
    "    dict_input = pickle.load(open('dict_input.pkl', 'rb'))\n",
    "\n",
    "    # Adjust financial data\n",
    "    df_adjusted_financial = adjust_financial(dict_input['financials'])\n",
    "    df_adjusted_financial.sort_values([\"SecuritiesCode\", \"Date\"], ascending = True, inplace = True)\n",
    "    \n",
    "    # Reflect AdjustmentFactor to price, etc...\n",
    "    df_adjusted_price = adjust_price(dict_input['stock_prices'])\n",
    "    df_adjusted_price.sort_values([\"SecuritiesCode\", \"Date\"], ascending = True, inplace = True)\n",
    "    df_adjusted_price.drop([\"RowId\", \"AdjustmentFactor\", \"CumulativeAdjustmentFactor\", \"ExpectedDividend\"], axis = 1, inplace = True)\n",
    "    \n",
    "    # Dump to pickle file\n",
    "    df_adjusted_price.to_pickle(\"df_adjusted_price.pkl\")\n",
    "    df_adjusted_financial.to_pickle(\"df_adjusted_financial.pkl\")"
   ]
  },
  {
   "cell_type": "code",
   "execution_count": 5,
   "metadata": {
    "execution": {
     "iopub.execute_input": "2022-06-11T19:43:37.674804Z",
     "iopub.status.busy": "2022-06-11T19:43:37.674375Z",
     "iopub.status.idle": "2022-06-11T19:43:37.690394Z",
     "shell.execute_reply": "2022-06-11T19:43:37.689066Z",
     "shell.execute_reply.started": "2022-06-11T19:43:37.674765Z"
    }
   },
   "outputs": [],
   "source": [
    "# Calc recent sharpe ratio\n",
    "def calc_sharpe():\n",
    "    print('calc_sharpe()')\n",
    "    \n",
    "    df = pd.read_pickle('df_adjusted_price.pkl')\n",
    "    df = df[df['Date'] < '2021-12-06']\n",
    "                        \n",
    "    df_closes = pd.pivot_table(df, values = \"Close\", index = \"Date\", columns = \"SecuritiesCode\").ffill()\n",
    "    \n",
    "    codes = df_closes.columns.unique()\n",
    "    \n",
    "    df_sharpe = pd.DataFrame()\n",
    "    \n",
    "    for code in codes:\n",
    "        df_closes[code] = df_closes[code].pct_change()\n",
    "        df_sharpe.loc[code, 'mean'] = df_closes[code].mean()\n",
    "        df_sharpe.loc[code, 'std'] = df_closes[code].std()\n",
    "    \n",
    "    df_sharpe['sharpe'] = df_sharpe['mean'] / df_sharpe['std']    \n",
    "    df_sharpe = df_sharpe.sort_values('sharpe', ascending = False)\n",
    "    df_sharpe.to_pickle('df_sharpe.pkl')"
   ]
  },
  {
   "cell_type": "code",
   "execution_count": 6,
   "metadata": {
    "execution": {
     "iopub.execute_input": "2022-06-11T19:43:37.693078Z",
     "iopub.status.busy": "2022-06-11T19:43:37.692519Z",
     "iopub.status.idle": "2022-06-11T19:43:37.735185Z",
     "shell.execute_reply": "2022-06-11T19:43:37.734223Z",
     "shell.execute_reply.started": "2022-06-11T19:43:37.693044Z"
    }
   },
   "outputs": [],
   "source": [
    "# Features engineering\n",
    "def ror(pivots, window):\n",
    "    closes, opens, highs, lows, volumes = pivots\n",
    "    ror = (closes - closes.shift(window)) / closes.shift(window)\n",
    "    return pd.melt(ror.diff(), ignore_index = False).reset_index().dropna().rename(columns = {\"value\": f\"ror_{window}_diff\"})\n",
    "\n",
    "def qvol(pivots, window):    \n",
    "    closes, opens, highs, lows, volumes = pivots\n",
    "    quote_volumes = (volumes * (closes + opens) / 2).rolling(window).mean()\n",
    "    return pd.melt(quote_volumes.diff(), ignore_index=False).reset_index().dropna().rename(columns = {\"value\": f\"qvol_{window}_diff\"})\n",
    "\n",
    "def atr(pivots, window):\n",
    "    closes, opens, highs, lows, volumes = pivots\n",
    "    a = highs - lows\n",
    "    b = abs(highs - closes.shift(1))\n",
    "    c = abs(lows - closes.shift(1))\n",
    "    atr = pd.DataFrame(np.max([a,b,c], axis = 0) / closes.shift(1), index = a.index, columns = a.columns).rolling(window).mean()\n",
    "    return pd.melt(atr.diff(), ignore_index=False).reset_index().dropna().rename(columns = {\"value\": f\"atr_{window}_diff\"})\n",
    "\n",
    "def atr_day(pivots, window):    \n",
    "    closes, opens, highs, lows, volumes = pivots\n",
    "    a = (highs - lows) / closes.shift(1)\n",
    "    atr_day = a.rolling(window).mean()\n",
    "    return pd.melt(atr_day.diff(), ignore_index = False).reset_index().dropna().rename(columns = {\"value\": f\"d_atr_{window}_diff\"})\n",
    "\n",
    "def atr_gaphigh(pivots, window):    \n",
    "    closes, opens, highs, lows, volumes = pivots\n",
    "    a = abs(highs - closes.shift(1)) / closes.shift(1)\n",
    "    atr_gaphigh = a.rolling(window).mean()\n",
    "    return pd.melt(atr_gaphigh.diff(), ignore_index = False).reset_index().dropna().rename(columns = {\"value\": f\"hg_atr_{window}_diff\"})\n",
    "\n",
    "def atr_gaplow(pivots, window):\n",
    "    closes, opens, highs, lows, volumes = pivots\n",
    "    a = abs(lows - closes.shift(1)) / closes.shift(1)\n",
    "    atr_gaplow = a.rolling(window).mean()\n",
    "    return pd.melt(atr_gaplow.diff(), ignore_index = False).reset_index().dropna().rename(columns = {\"value\": f\"lg_atr_{window}_diff\"})\n",
    "\n",
    "def vola(pivots, window):\n",
    "    closes, opens, highs, lows, volumes = pivots\n",
    "    vola = (closes.diff() / closes.shift(1)).rolling(window).std()\n",
    "    return pd.melt(vola.diff(), ignore_index = False).reset_index().dropna().rename(columns = {\"value\": f\"vola_{window}_diff\"})\n",
    "\n",
    "def HL(pivots, window):\n",
    "    closes, opens, highs, lows, volumes = pivots\n",
    "    hl = highs.rolling(window).max() - lows.rolling(window).min()\n",
    "    return pd.melt(hl.diff(), ignore_index = False).reset_index().dropna().rename(columns = {\"value\": f\"hl_{window}_diff\"})\n",
    "\n",
    "def market_impact(pivots, window):\n",
    "    closes, opens, highs, lows, volumes = pivots\n",
    "    mi = (closes.diff() / volumes).rolling(window).mean()\n",
    "    return pd.melt(mi.diff(), ignore_index = False).reset_index().dropna().rename(columns = {\"value\": f\"mi_{window}_diff\"})\n",
    "\n",
    "def ma_gap(pivots, window):\n",
    "    closes, opens, highs, lows, volumes = pivots\n",
    "    magap = (closes - closes.rolling(window).mean()) / closes.rolling(window).mean()\n",
    "    return pd.melt(magap.diff(), ignore_index = False).reset_index().dropna().rename(columns = {\"value\": f\"magap_{window}_diff\"})\n",
    "\n",
    "def create_technical_features(df_price):\n",
    "    df = df_price.copy()\n",
    "     \n",
    "    closes = pd.pivot_table(df, values = \"Close\", index = \"Date\", columns = \"SecuritiesCode\").ffill()\n",
    "    opens = pd.pivot_table(df, values = \"Open\", index = \"Date\", columns = \"SecuritiesCode\").ffill()\n",
    "    highs = pd.pivot_table(df, values = \"High\", index = \"Date\", columns = \"SecuritiesCode\").ffill()\n",
    "    lows = pd.pivot_table(df, values = \"Low\", index = \"Date\", columns = \"SecuritiesCode\").ffill()\n",
    "    volumes = pd.pivot_table(df, values = \"Volume\", index = \"Date\", columns = \"SecuritiesCode\").ffill()\n",
    "    \n",
    "    pivots = (closes, opens, highs, lows, volumes)\n",
    "\n",
    "    features = df[[\"Date\", \"SectorCode\", \"SecuritiesCode\", \"Close\", \"Open\", \"High\", \"Low\", \"Volume\"]].fillna(0)\n",
    "    \n",
    "    for func in [vola, ma_gap]:\n",
    "        for window in tqdm([2, 5, 10, 20, 40, 60, 100]):\n",
    "            features = pd.merge(features, func(pivots, window), on = [\"Date\",\"SecuritiesCode\"], how = \"left\")\n",
    "    \n",
    "    for func in [ror, qvol, atr, atr_day, atr_gaphigh, atr_gaplow, HL, market_impact]:\n",
    "        for window in tqdm([1, 5, 10, 20, 40, 60, 100]):\n",
    "            features = pd.merge(features, func(pivots, window), on = [\"Date\",\"SecuritiesCode\"], how = \"left\")\n",
    "    \n",
    "    features['dateofweek'] = df['Date'].map(lambda x: datetime.fromtimestamp(x.value / 1_000_000_000).weekday())\n",
    "    return features.drop(['Close', 'Open', 'High', 'Low', 'Volume'], axis = 1)    \n",
    "\n",
    "def create_financial_features(df_financial):\n",
    "    df = df_financial.copy()\n",
    "    \n",
    "    features = df[['Date', 'SecuritiesCode', 'EarningsPerShare', 'ForecastEarningsPerShare', 'NetSales', 'Profit', 'ForecastProfit', 'EquityToAssetRatio', 'ForecastDividendPerShareAnnual']]\n",
    "    features['eps'] = features['EarningsPerShare']\n",
    "    features['feps'] = features['ForecastEarningsPerShare']\n",
    "    features['eps_feps'] = (features['eps'] / features['feps']).replace([np.inf, -np.inf], np.nan).fillna(0)\n",
    "    features['pmargin'] = (features['Profit'] / features['NetSales']).replace([np.inf, -np.inf], np.nan).fillna(0)\n",
    "    features['earatio'] = features['EquityToAssetRatio']\n",
    "    features['fdps'] = features['ForecastDividendPerShareAnnual']\n",
    "    \n",
    "    # ToDo: Forecast missing, Revisions, etc...\n",
    "\n",
    "    return features.drop(['EarningsPerShare', 'ForecastEarningsPerShare', 'NetSales', 'Profit', 'ForecastProfit', 'EquityToAssetRatio', 'ForecastDividendPerShareAnnual'], axis = 1)\n",
    "\n",
    "def calc_features():\n",
    "    print('calc_features()')\n",
    "    \n",
    "    dict_input = pd.read_pickle('dict_input.pkl')\n",
    "    df_adjusted_price = pd.read_pickle('df_adjusted_price.pkl')\n",
    "    df_adjusted_financial = pd.read_pickle('df_adjusted_financial.pkl')\n",
    "    \n",
    "    df_technical_features = create_technical_features(df_adjusted_price)\n",
    "    df_technical_features = df_technical_features.sort_values(['Date','SecuritiesCode']).dropna(axis = 0)\n",
    "    \n",
    "    df_financial_features = create_financial_features(df_adjusted_financial)\n",
    "    df_financial_features = df_financial_features.sort_values(['Date','SecuritiesCode']).fillna(0)\n",
    "                \n",
    "    df_features = df_technical_features.merge(df_financial_features, on = ['Date', 'SecuritiesCode'], how = 'left')\n",
    "    df_features['eps'] = df_features['eps'].ffill().fillna(0)\n",
    "    df_features['feps'] = df_features['feps'].ffill().fillna(0)\n",
    "    df_features['eps_feps'] = df_features['eps_feps'].ffill().fillna(0)\n",
    "    df_features['pmargin'] = df_features['pmargin'].ffill().fillna(0)\n",
    "    df_features['earatio'] = df_features['earatio'].ffill().fillna(0)\n",
    "    df_features['fdps'] = df_features['fdps'].ffill().fillna(0)\n",
    "    \n",
    "    df_features = df_technical_features\n",
    "    df_features_target = df_features.merge(dict_input['stock_prices'][['Date', 'SecuritiesCode', 'Target']], on = ['Date', 'SecuritiesCode'], how = 'left').dropna(axis = 0)\n",
    "    \n",
    "    print(df_features_target.info())\n",
    "\n",
    "    # Dump to file and free memory\n",
    "    df_features_target.to_pickle('df_features_target.pkl')"
   ]
  },
  {
   "cell_type": "code",
   "execution_count": 7,
   "metadata": {
    "execution": {
     "iopub.execute_input": "2022-06-11T19:43:37.737243Z",
     "iopub.status.busy": "2022-06-11T19:43:37.736356Z",
     "iopub.status.idle": "2022-06-11T19:43:37.754151Z",
     "shell.execute_reply": "2022-06-11T19:43:37.753058Z",
     "shell.execute_reply.started": "2022-06-11T19:43:37.737209Z"
    }
   },
   "outputs": [],
   "source": [
    "def calc_spread_return_sharpe(df: pd.DataFrame, portfolio_size: int = 200, toprank_weight_ratio: float = 2) -> float:\n",
    "    \"\"\"\n",
    "    Args:\n",
    "        df (pd.DataFrame): predicted results\n",
    "        portfolio_size (int): # of equities to buy/sell\n",
    "        toprank_weight_ratio (float): the relative weight of the most highly ranked stock compared to the least.\n",
    "    Returns:\n",
    "        (float): sharpe ratio\n",
    "    \"\"\"\n",
    "    def _calc_spread_return_per_day(df, portfolio_size, toprank_weight_ratio):\n",
    "        \"\"\"\n",
    "        Args:\n",
    "            df (pd.DataFrame): predicted results\n",
    "            portfolio_size (int): # of equities to buy/sell\n",
    "            toprank_weight_ratio (float): the relative weight of the most highly ranked stock compared to the least.\n",
    "        Returns:\n",
    "            (float): spread return\n",
    "        \"\"\"\n",
    "        assert df['Rank'].min() == 0\n",
    "        assert df['Rank'].max() == len(df['Rank']) - 1\n",
    "        weights = np.linspace(start=toprank_weight_ratio, stop=1, num=portfolio_size)\n",
    "        purchase = (df.sort_values(by='Rank')['Target'][:portfolio_size] * weights).sum() / weights.mean()\n",
    "        short = (df.sort_values(by='Rank', ascending=False)['Target'][:portfolio_size] * weights).sum() / weights.mean()\n",
    "        return purchase - short\n",
    "\n",
    "    buf = df.groupby('Date').apply(_calc_spread_return_per_day, portfolio_size, toprank_weight_ratio)\n",
    "    sharpe_ratio = buf.mean() / buf.std()\n",
    "    return sharpe_ratio"
   ]
  },
  {
   "cell_type": "code",
   "execution_count": 8,
   "metadata": {
    "execution": {
     "iopub.execute_input": "2022-06-11T19:43:37.757138Z",
     "iopub.status.busy": "2022-06-11T19:43:37.756487Z",
     "iopub.status.idle": "2022-06-11T19:43:37.781015Z",
     "shell.execute_reply": "2022-06-11T19:43:37.779705Z",
     "shell.execute_reply.started": "2022-06-11T19:43:37.757084Z"
    }
   },
   "outputs": [],
   "source": [
    "def run_train_cv():\n",
    "    df_features_target = pd.read_pickle('df_features_target.pkl')\n",
    "\n",
    "    ts_fold = TimeSeriesSplit(n_splits = 10, gap = 7)\n",
    "    \n",
    "    date_features_target = df_features_target.Date.unique()\n",
    "\n",
    "    df_X = df_features_target[set(df_features_target.columns.values) - {'Target'}]\n",
    "    df_y = df_features_target[['Date', 'Target']]\n",
    "\n",
    "    feat_importance = pd.DataFrame()\n",
    "    sharpe_ratio = []\n",
    "\n",
    "    for fold, (train_idx, valid_idx) in enumerate(ts_fold.split(date_features_target, date_features_target)):\n",
    "        train_from = date_features_target[train_idx[0]]\n",
    "        train_to = date_features_target[train_idx[-1]]\n",
    "        valid_from = date_features_target[valid_idx[0]]\n",
    "        valid_to = date_features_target[valid_idx[-1]]\n",
    "        \n",
    "        print(f\"\\n========================== Fold {fold + 1} ==========================\")\n",
    "        X_train, y_train = df_X[(df_X['Date'] >= train_from) & (df_X['Date'] <= train_to)], df_y[(df_y['Date'] >= train_from) & (df_y['Date'] <= train_to)]\n",
    "        X_valid, y_valid = df_X[(df_X['Date'] >= valid_from) & (df_X['Date'] <= valid_to)], df_y[(df_y['Date'] >= valid_from) & (df_y['Date'] <= valid_to)]\n",
    "\n",
    "        print(f\"Train Date range: {X_train.Date.min()} to {X_train.Date.max()}\")\n",
    "        print(f\"Valid Date range: {X_valid.Date.min()} to {X_valid.Date.max()}\")\n",
    "\n",
    "        val_dates = X_valid.Date.unique()[1:-1]\n",
    "        X_train_nodate = X_train.drop('Date', axis = 1)\n",
    "        X_valid_nodate = X_valid.drop('Date', axis = 1)\n",
    "        y_train_nodate = y_train.drop('Date', axis = 1)\n",
    "        y_valid_nodate = y_valid.drop('Date', axis = 1)\n",
    "        print(f\"\\nTrain Shape: {X_train_nodate.shape} {y_train_nodate.shape}, Valid Shape: {X_valid_nodate.shape} {y_valid_nodate.shape}\")\n",
    "\n",
    "        gbm = LGBMRegressor(**lgbm_cv_params).fit(X_train_nodate, y_train_nodate,\n",
    "                                                  eval_set = [(X_train_nodate, y_train_nodate), (X_valid_nodate, y_valid_nodate)],\n",
    "                                                  verbose = 250)\n",
    "        y_pred = gbm.predict(X_valid_nodate)\n",
    "        rmse = np.sqrt(mean_squared_error(y_valid_nodate, y_pred))\n",
    "        mae = mean_absolute_error(y_valid_nodate, y_pred)\n",
    "        feat_importance[\"Importance_Fold\" + str(fold)] = gbm.feature_importances_\n",
    "        feat_importance.set_index(X_train_nodate.columns, inplace = True)\n",
    "\n",
    "        rank = []\n",
    "        for i in X_valid.Date.unique():\n",
    "            temp_df = X_valid[X_valid.Date == i].drop('Date', axis = 1)\n",
    "            temp_df[\"pred\"] = gbm.predict(temp_df)\n",
    "            temp_df[\"Rank\"] = (temp_df[\"pred\"].rank(method = \"first\", ascending = False) - 1).astype(int)\n",
    "            rank.append(temp_df[\"Rank\"].values)\n",
    "\n",
    "        stock_rank = pd.Series([x for y in rank for x in y], name = \"Rank\")\n",
    "        df = pd.concat([X_valid.reset_index(drop = True), stock_rank, df_features_target['Target'].reset_index(drop = True)], axis = 1)\n",
    "        sharpe = calc_spread_return_sharpe(df)\n",
    "        sharpe_ratio.append(sharpe)\n",
    "        print(f\"Valid Sharpe: {sharpe}, RMSE: {rmse}, MAE: {mae}\")\n",
    "\n",
    "        # Free memory\n",
    "        del X_train, y_train,  X_valid, y_valid, X_train_nodate, X_valid_nodate, y_train_nodate, y_valid_nodate\n",
    "        gc.collect()\n",
    "\n",
    "    print(f\"\\nAverage cross-validation Sharpe Ratio: {np.mean(sharpe_ratio):.4f}, standard deviation = {np.std(sharpe_ratio):.2f}.\")\n",
    "\n",
    "    # Plot feature importance\n",
    "    feat_importance['avg'] = feat_importance.mean(axis = 1)\n",
    "    feat_importance = feat_importance.sort_values(by = 'avg', ascending = True)\n",
    "    pal = sns.color_palette(\"plasma_r\", len(feat_importance.index) + 2).as_hex()[2:]\n",
    "\n",
    "    fig = go.Figure()\n",
    "    for i in range(len(feat_importance.index)):\n",
    "        fig.add_shape(dict(type = \"line\", y0 = i, y1 = i, x0 = 0, x1 = feat_importance['avg'][i], \n",
    "                           line_color = pal[::-1][i], opacity = 0.7, line_width = 4))\n",
    "    fig.add_trace(go.Scatter(x=feat_importance['avg'], y = feat_importance.index, mode = 'markers', \n",
    "                             marker_color = pal[::-1], marker_size = 8,\n",
    "                             hovertemplate = '%{y} Importance = %{x:.0f}<extra></extra>'))\n",
    "    fig.update_layout(template = temp, title = 'Overall Feature Importance', \n",
    "                      xaxis = dict(title = 'Average Importance', zeroline = False),\n",
    "                      yaxis_showgrid = False, margin = dict(l = 120, t = 80),\n",
    "                      height = 2000, width = 800)\n",
    "    fig.show()"
   ]
  },
  {
   "cell_type": "code",
   "execution_count": 9,
   "metadata": {
    "_kg_hide-input": true,
    "execution": {
     "iopub.execute_input": "2022-06-11T19:43:37.783403Z",
     "iopub.status.busy": "2022-06-11T19:43:37.782873Z",
     "iopub.status.idle": "2022-06-11T19:43:37.807895Z",
     "shell.execute_reply": "2022-06-11T19:43:37.806745Z",
     "shell.execute_reply.started": "2022-06-11T19:43:37.783355Z"
    }
   },
   "outputs": [],
   "source": [
    "def run_train_all():\n",
    "    df_features_target = pd.read_pickle('df_features_target.pkl')\n",
    "    df_sharpe = pd.read_pickle('df_sharpe.pkl')\n",
    "    \n",
    "    # Low sharpe ratio stocks\n",
    "    list_securitiescode = list(df_sharpe.index[200:-200])\n",
    "    \n",
    "    # Fit with all training date for submission\n",
    "    X_train = df_features_target[df_features_target['Date'] < '2021-12-06'][set(df_features_target.columns.values) - {'Target'}]\n",
    "    y_train = df_features_target[df_features_target['Date'] < '2021-12-06'][['Date', 'Target']]\n",
    "    X_test = df_features_target[df_features_target['Date'] >= '2021-12-06'][set(df_features_target.columns.values) - {'Target'}]\n",
    "    y_test = df_features_target[df_features_target['Date'] >= '2021-12-06'][['Date', 'Target']]\n",
    "    \n",
    "    print(f\"Train Date range: {X_train.Date.min()} to {X_train.Date.max()}\")\n",
    "    print(f\"Test Date range: {X_test.Date.min()} to {X_test.Date.max()}\")\n",
    "    \n",
    "    X_train_nodate = X_train.drop('Date', axis = 1)\n",
    "    X_test_nodate = X_test.drop('Date', axis = 1)\n",
    "    y_train_nodate = y_train.drop('Date', axis = 1)\n",
    "    y_test_nodate = y_test.drop('Date', axis = 1)\n",
    "\n",
    "    gbm = LGBMRegressor(**lgbm_submit_params).fit(X_train_nodate, y_train_nodate, verbose = 250)\n",
    "    pickle.dump(gbm, open('model.pkl', 'wb'))\n",
    "    \n",
    "    # Run against test period\n",
    "    y_pred = gbm.predict(X_test_nodate)\n",
    "    rmse = np.sqrt(mean_squared_error(y_test_nodate, y_pred))\n",
    "    mae = mean_absolute_error(y_test_nodate, y_pred)\n",
    "    \n",
    "    rank = []\n",
    "    for i in X_test.Date.unique():\n",
    "        temp_df = X_test[X_test.Date == i]\n",
    "        temp_df[\"pred\"] = gbm.predict(temp_df.drop('Date', axis = 1))\n",
    "        median_pred = temp_df[\"pred\"].median()\n",
    "        \n",
    "        # Ignore too high and too low predictions\n",
    "        ignore_count = 1\n",
    "        temp_df = temp_df.sort_values('pred', ascending = False)\n",
    "        pred_index = temp_df.columns.get_loc('pred')\n",
    "        temp_df.iloc[:ignore_count, pred_index] = median_pred\n",
    "        temp_df.iloc[-ignore_count:, pred_index] = median_pred\n",
    "        temp_df = temp_df.sort_index()\n",
    "        \n",
    "        # Set rank after the above adjustment\n",
    "        temp_df[\"Rank\"] = (temp_df[\"pred\"].rank(method = \"first\", ascending = False) - 1).astype(int)\n",
    "        temp_df[\"Rank\"] = temp_df[\"Rank\"].fillna(len(temp_df) // 2)\n",
    "        rank.append(temp_df[\"Rank\"].values)\n",
    "\n",
    "    stock_rank = pd.Series([x for y in rank for x in y], name=\"Rank\")\n",
    "    df = pd.concat([X_test.reset_index(drop = True), stock_rank,\n",
    "                   df_features_target[df_features_target['Date'] >= '2021-12-06']['Target'].reset_index(drop = True)], axis = 1)\n",
    "\n",
    "    sharpe_ratio = []\n",
    "    sharpe = calc_spread_return_sharpe(df)\n",
    "    sharpe_ratio.append(sharpe)\n",
    "    print(f\"Validation sharpe: {sharpe}, RMSE: {rmse}, MAE: {mae}\")\n",
    "    \n",
    "    df_feature_importance = pd.DataFrame()\n",
    "    df_feature_importance['Name'] = gbm.feature_name_\n",
    "    df_feature_importance['Importance'] = gbm.feature_importances_\n",
    "    df_feature_importance.sort_values('Importance', ascending = True, inplace = True)\n",
    "\n",
    "    pal = sns.color_palette(\"plasma_r\", len(df_feature_importance) + 2).as_hex()[2:]\n",
    "    fig = go.Figure()\n",
    "    \n",
    "    for i in range(len(df_feature_importance)):\n",
    "        fig.add_shape(dict(type=\"line\", y0 = i, y1 = i, x0 = 0, x1 = df_feature_importance['Importance'].iloc[i], \n",
    "                           line_color = pal[::-1][i], opacity = 0.7, line_width = 4))\n",
    "\n",
    "    fig.add_trace(go.Scatter(x = df_feature_importance['Importance'], y = df_feature_importance['Name'], mode = 'markers', \n",
    "                  marker_color = pal[::-1], marker_size = 8,\n",
    "                  hovertemplate = '%{y} Importance = %{x:.0f}<extra></extra>'))\n",
    "\n",
    "    fig.update_layout(template = temp, title = 'Overall Feature Importance', \n",
    "                      xaxis = dict(title = 'Average Importance', zeroline = False),\n",
    "                      yaxis_showgrid = False, margin = dict(l = 120, t = 80),\n",
    "                      height = 2000, width = 800)\n",
    "    fig.show()"
   ]
  },
  {
   "cell_type": "code",
   "execution_count": 10,
   "metadata": {
    "execution": {
     "iopub.execute_input": "2022-06-11T19:43:37.810182Z",
     "iopub.status.busy": "2022-06-11T19:43:37.809833Z",
     "iopub.status.idle": "2022-06-11T19:43:37.827794Z",
     "shell.execute_reply": "2022-06-11T19:43:37.827012Z",
     "shell.execute_reply.started": "2022-06-11T19:43:37.810139Z"
    }
   },
   "outputs": [],
   "source": [
    "def simulate_submit():\n",
    "    env = jpx_tokyo_market_prediction.make_env()\n",
    "    iter_test = env.iter_test()\n",
    "    \n",
    "    df_features_target = pd.read_pickle('df_features_target.pkl')\n",
    "    df_sharpe = pd.read_pickle('df_sharpe.pkl')\n",
    "    gbm = pickle.load(open('model.pkl', 'rb'))\n",
    "\n",
    "    # Find should be excluded securities code based on highest 200 and lowest 200 sharpe ratio\n",
    "    list_securitiescode = list(df_sharpe.index[200:-200])\n",
    "\n",
    "    for (prices, options, financials, trades, secondary_prices, sample_prediction) in tqdm(iter_test):\n",
    "        current_date = prices[\"Date\"].iloc[0]\n",
    "        print(f'Target date = {current_date}')\n",
    "\n",
    "        df_features_temp = df_features_target[df_features_target[\"Date\"] == current_date]\n",
    "        \n",
    "        df_features_temp[\"pred\"] = gbm.predict(df_features_temp.drop(['Date', 'Target'], axis = 1))\n",
    "\n",
    "        temp_df = df_features_temp[df_features_temp[\"Date\"] == current_date][[\"Date\", \"SecuritiesCode\", \"pred\"]]\n",
    "        \n",
    "        # Pick low volatility stocks and boost prediction to be picked as top 200 and bottom 200 stocks\n",
    "        temp_df[\"pred_abs\"] = np.abs(temp_df[\"pred\"])\n",
    "        \n",
    "        temp_df2 = temp_df.sort_values('pred', ascending = False).reset_index()\n",
    "        row_min_pred = temp_df2[temp_df2['pred_abs'] == temp_df2['pred_abs'].min()]\n",
    "        min_index = row_min_pred.index.values.astype(int)[0]\n",
    "\n",
    "        if min_index >= 0:\n",
    "            min_index = min_index + 1\n",
    "\n",
    "        df_plus = temp_df2.iloc[min_index - 200:min_index]\n",
    "        list_plus = list(df_plus['index'])\n",
    "        df_minus = temp_df2.iloc[min_index: min_index + 200]\n",
    "        list_minus = list(df_minus['index'])\n",
    "\n",
    "        temp_df.loc[list_plus, 'pred'] = temp_df.loc[list_plus, 'pred'] + 1\n",
    "        temp_df.loc[list_minus, 'pred'] = temp_df.loc[list_minus, 'pred'] - 1\n",
    "        \n",
    "        # Set rank after the above adjustment\n",
    "        temp_df[\"Rank\"] = (temp_df[\"pred\"].rank(method=\"first\", ascending = False) - 1).astype(int)\n",
    "        \n",
    "        sample_prediction[\"Date\"] = pd.to_datetime(sample_prediction[\"Date\"])\n",
    "        sample_prediction.drop(\"Rank\", axis = 1, inplace = True)\n",
    "        sample_prediction = sample_prediction.merge(temp_df[[\"Date\", \"SecuritiesCode\", \"Rank\"]], on = [\"Date\", \"SecuritiesCode\"], how = \"left\")\n",
    "        sample_prediction[\"Rank\"] = sample_prediction[\"Rank\"].fillna(len(sample_prediction) // 2)\n",
    "        sample_prediction[\"Rank\"] = (sample_prediction[\"Rank\"].rank(method = \"first\") - 1).astype(int)\n",
    "\n",
    "        assert sample_prediction[\"Rank\"].notna().all()\n",
    "        assert sample_prediction[\"Rank\"].min() == 0\n",
    "        assert sample_prediction[\"Rank\"].max() == len(sample_prediction[\"Rank\"]) - 1\n",
    "\n",
    "        env.predict(sample_prediction)"
   ]
  },
  {
   "cell_type": "code",
   "execution_count": 11,
   "metadata": {
    "execution": {
     "iopub.execute_input": "2022-06-11T19:43:37.829986Z",
     "iopub.status.busy": "2022-06-11T19:43:37.829374Z",
     "iopub.status.idle": "2022-06-11T20:00:30.780640Z",
     "shell.execute_reply": "2022-06-11T20:00:30.779333Z",
     "shell.execute_reply.started": "2022-06-11T19:43:37.829924Z"
    }
   },
   "outputs": [
    {
     "name": "stdout",
     "output_type": "stream",
     "text": [
      "load_data()\n"
     ]
    },
    {
     "name": "stderr",
     "output_type": "stream",
     "text": [
      "100%|██████████| 2/2 [00:16<00:00,  8.35s/it]\n"
     ]
    },
    {
     "name": "stdout",
     "output_type": "stream",
     "text": [
      "<class 'pandas.core.frame.DataFrame'>\n",
      "Int64Index: 102390 entries, 0 to 102389\n",
      "Data columns (total 47 columns):\n",
      " #   Column                                                                        Non-Null Count   Dtype         \n",
      "---  ------                                                                        --------------   -----         \n",
      " 0   DisclosureNumber                                                              102388 non-null  float64       \n",
      " 1   DateCode                                                                      102388 non-null  object        \n",
      " 2   Date                                                                          102390 non-null  datetime64[ns]\n",
      " 3   SecuritiesCode                                                                102388 non-null  float64       \n",
      " 4   DisclosedDate                                                                 102388 non-null  object        \n",
      " 5   DisclosedTime                                                                 102388 non-null  object        \n",
      " 6   DisclosedUnixTime                                                             102388 non-null  float64       \n",
      " 7   TypeOfDocument                                                                102388 non-null  object        \n",
      " 8   CurrentPeriodEndDate                                                          102388 non-null  object        \n",
      " 9   TypeOfCurrentPeriod                                                           102388 non-null  object        \n",
      " 10  CurrentFiscalYearStartDate                                                    102388 non-null  object        \n",
      " 11  CurrentFiscalYearEndDate                                                      102388 non-null  object        \n",
      " 12  NetSales                                                                      83215 non-null   object        \n",
      " 13  OperatingProfit                                                               81030 non-null   object        \n",
      " 14  OrdinaryProfit                                                                83084 non-null   object        \n",
      " 15  Profit                                                                        83153 non-null   object        \n",
      " 16  EarningsPerShare                                                              82684 non-null   object        \n",
      " 17  TotalAssets                                                                   83203 non-null   object        \n",
      " 18  Equity                                                                        83201 non-null   object        \n",
      " 19  EquityToAssetRatio                                                            82454 non-null   object        \n",
      " 20  BookValuePerShare                                                             40104 non-null   object        \n",
      " 21  ResultDividendPerShare1stQuarter                                              82041 non-null   object        \n",
      " 22  ResultDividendPerShare2ndQuarter                                              62678 non-null   object        \n",
      " 23  ResultDividendPerShare3rdQuarter                                              43819 non-null   object        \n",
      " 24  ResultDividendPerShareFiscalYearEnd                                           22710 non-null   object        \n",
      " 25  ResultDividendPerShareAnnual                                                  22710 non-null   object        \n",
      " 26  ForecastDividendPerShare1stQuarter                                            22518 non-null   object        \n",
      " 27  ForecastDividendPerShare2ndQuarter                                            47412 non-null   object        \n",
      " 28  ForecastDividendPerShare3rdQuarter                                            66193 non-null   object        \n",
      " 29  ForecastDividendPerShareFiscalYearEnd                                         87248 non-null   object        \n",
      " 30  ForecastDividendPerShareAnnual                                                87250 non-null   object        \n",
      " 31  ForecastNetSales                                                              91315 non-null   object        \n",
      " 32  ForecastOperatingProfit                                                       89387 non-null   object        \n",
      " 33  ForecastOrdinaryProfit                                                        91162 non-null   object        \n",
      " 34  ForecastProfit                                                                92439 non-null   object        \n",
      " 35  ForecastEarningsPerShare                                                      91310 non-null   object        \n",
      " 36  ApplyingOfSpecificAccountingOfTheQuarterlyFinancialStatements                 7878 non-null    object        \n",
      " 37  MaterialChangesInSubsidiaries                                                 71161 non-null   object        \n",
      " 38  ChangesBasedOnRevisionsOfAccountingStandard                                   82617 non-null   object        \n",
      " 39  ChangesOtherThanOnesBasedOnRevisionsOfAccountingStandard                      82617 non-null   object        \n",
      " 40  ChangesInAccountingEstimates                                                  81827 non-null   object        \n",
      " 41  RetrospectiveRestatement                                                      77601 non-null   object        \n",
      " 42  NumberOfIssuedAndOutstandingSharesAtTheEndOfFiscalYearIncludingTreasuryStock  82644 non-null   object        \n",
      " 43  NumberOfTreasuryStockAtTheEndOfFiscalYear                                     82644 non-null   object        \n",
      " 44  AverageNumberOfShares                                                         82012 non-null   object        \n",
      " 45  Name                                                                          102388 non-null  object        \n",
      " 46  SectorCode                                                                    102390 non-null  int64         \n",
      "dtypes: datetime64[ns](1), float64(3), int64(1), object(42)\n",
      "memory usage: 37.5+ MB\n",
      "None\n",
      "<class 'pandas.core.frame.DataFrame'>\n",
      "Int64Index: 2562489 entries, 0 to 2562488\n",
      "Data columns (total 14 columns):\n",
      " #   Column            Dtype         \n",
      "---  ------            -----         \n",
      " 0   RowId             object        \n",
      " 1   Date              datetime64[ns]\n",
      " 2   SecuritiesCode    int64         \n",
      " 3   Open              float64       \n",
      " 4   High              float64       \n",
      " 5   Low               float64       \n",
      " 6   Close             float64       \n",
      " 7   Volume            int64         \n",
      " 8   AdjustmentFactor  float64       \n",
      " 9   ExpectedDividend  float64       \n",
      " 10  SupervisionFlag   bool          \n",
      " 11  Target            float64       \n",
      " 12  Name              object        \n",
      " 13  SectorCode        int64         \n",
      "dtypes: bool(1), datetime64[ns](1), float64(7), int64(3), object(2)\n",
      "memory usage: 276.1+ MB\n",
      "None\n",
      "adjust_data()\n",
      "calc_sharpe()\n",
      "calc_features()\n"
     ]
    },
    {
     "name": "stderr",
     "output_type": "stream",
     "text": [
      "100%|██████████| 7/7 [00:09<00:00,  1.42s/it]\n",
      "100%|██████████| 7/7 [00:12<00:00,  1.72s/it]\n",
      "100%|██████████| 7/7 [00:09<00:00,  1.42s/it]\n",
      "100%|██████████| 7/7 [00:13<00:00,  1.90s/it]\n",
      "100%|██████████| 7/7 [00:14<00:00,  2.01s/it]\n",
      "100%|██████████| 7/7 [00:13<00:00,  1.98s/it]\n",
      "100%|██████████| 7/7 [00:16<00:00,  2.29s/it]\n",
      "100%|██████████| 7/7 [00:16<00:00,  2.42s/it]\n",
      "100%|██████████| 7/7 [00:19<00:00,  2.77s/it]\n",
      "100%|██████████| 7/7 [00:17<00:00,  2.53s/it]\n"
     ]
    },
    {
     "name": "stdout",
     "output_type": "stream",
     "text": [
      "<class 'pandas.core.frame.DataFrame'>\n",
      "Int64Index: 2105221 entries, 0 to 2105224\n",
      "Data columns (total 75 columns):\n",
      " #   Column           Dtype         \n",
      "---  ------           -----         \n",
      " 0   Date             datetime64[ns]\n",
      " 1   SectorCode       int64         \n",
      " 2   SecuritiesCode   int64         \n",
      " 3   vola_2_diff      float64       \n",
      " 4   vola_5_diff      float64       \n",
      " 5   vola_10_diff     float64       \n",
      " 6   vola_20_diff     float64       \n",
      " 7   vola_40_diff     float64       \n",
      " 8   vola_60_diff     float64       \n",
      " 9   vola_100_diff    float64       \n",
      " 10  magap_2_diff     float64       \n",
      " 11  magap_5_diff     float64       \n",
      " 12  magap_10_diff    float64       \n",
      " 13  magap_20_diff    float64       \n",
      " 14  magap_40_diff    float64       \n",
      " 15  magap_60_diff    float64       \n",
      " 16  magap_100_diff   float64       \n",
      " 17  ror_1_diff       float64       \n",
      " 18  ror_5_diff       float64       \n",
      " 19  ror_10_diff      float64       \n",
      " 20  ror_20_diff      float64       \n",
      " 21  ror_40_diff      float64       \n",
      " 22  ror_60_diff      float64       \n",
      " 23  ror_100_diff     float64       \n",
      " 24  qvol_1_diff      float64       \n",
      " 25  qvol_5_diff      float64       \n",
      " 26  qvol_10_diff     float64       \n",
      " 27  qvol_20_diff     float64       \n",
      " 28  qvol_40_diff     float64       \n",
      " 29  qvol_60_diff     float64       \n",
      " 30  qvol_100_diff    float64       \n",
      " 31  atr_1_diff       float64       \n",
      " 32  atr_5_diff       float64       \n",
      " 33  atr_10_diff      float64       \n",
      " 34  atr_20_diff      float64       \n",
      " 35  atr_40_diff      float64       \n",
      " 36  atr_60_diff      float64       \n",
      " 37  atr_100_diff     float64       \n",
      " 38  d_atr_1_diff     float64       \n",
      " 39  d_atr_5_diff     float64       \n",
      " 40  d_atr_10_diff    float64       \n",
      " 41  d_atr_20_diff    float64       \n",
      " 42  d_atr_40_diff    float64       \n",
      " 43  d_atr_60_diff    float64       \n",
      " 44  d_atr_100_diff   float64       \n",
      " 45  hg_atr_1_diff    float64       \n",
      " 46  hg_atr_5_diff    float64       \n",
      " 47  hg_atr_10_diff   float64       \n",
      " 48  hg_atr_20_diff   float64       \n",
      " 49  hg_atr_40_diff   float64       \n",
      " 50  hg_atr_60_diff   float64       \n",
      " 51  hg_atr_100_diff  float64       \n",
      " 52  lg_atr_1_diff    float64       \n",
      " 53  lg_atr_5_diff    float64       \n",
      " 54  lg_atr_10_diff   float64       \n",
      " 55  lg_atr_20_diff   float64       \n",
      " 56  lg_atr_40_diff   float64       \n",
      " 57  lg_atr_60_diff   float64       \n",
      " 58  lg_atr_100_diff  float64       \n",
      " 59  hl_1_diff        float64       \n",
      " 60  hl_5_diff        float64       \n",
      " 61  hl_10_diff       float64       \n",
      " 62  hl_20_diff       float64       \n",
      " 63  hl_40_diff       float64       \n",
      " 64  hl_60_diff       float64       \n",
      " 65  hl_100_diff      float64       \n",
      " 66  mi_1_diff        float64       \n",
      " 67  mi_5_diff        float64       \n",
      " 68  mi_10_diff       float64       \n",
      " 69  mi_20_diff       float64       \n",
      " 70  mi_40_diff       float64       \n",
      " 71  mi_60_diff       float64       \n",
      " 72  mi_100_diff      float64       \n",
      " 73  dateofweek       int64         \n",
      " 74  Target           float64       \n",
      "dtypes: datetime64[ns](1), float64(71), int64(3)\n",
      "memory usage: 1.2 GB\n",
      "None\n",
      "Train Date range: 2017-06-01 00:00:00 to 2021-12-03 00:00:00\n",
      "Test Date range: 2021-12-06 00:00:00 to 2022-05-27 00:00:00\n",
      "[LightGBM] [Info] Total Bins 18128\n",
      "[LightGBM] [Info] Number of data points in the train set: 1881099, number of used features: 73\n",
      "[LightGBM] [Info] Start training from score 0.000295\n",
      "Validation sharpe: 0.13494670837288883, RMSE: 0.024999829593994913, MAE: 0.017110154731575494\n"
     ]
    },
    {
     "data": {
      "application/vnd.plotly.v1+json": {
       "config": {
        "plotlyServerURL": "https://plot.ly"
       },
       "data": [
        {
         "hovertemplate": "%{y} Importance = %{x:.0f}<extra></extra>",
         "marker": {
          "color": [
           "#16078a",
           "#1d068e",
           "#260591",
           "#2c0594",
           "#310597",
           "#38049a",
           "#3e049c",
           "#43039e",
           "#4903a0",
           "#4e02a2",
           "#5502a4",
           "#5901a5",
           "#5e01a6",
           "#6400a7",
           "#6900a8",
           "#6e00a8",
           "#7401a8",
           "#7801a8",
           "#7d03a8",
           "#8305a7",
           "#8707a6",
           "#8d0ba5",
           "#910ea3",
           "#9511a1",
           "#9a169f",
           "#9e199d",
           "#a21d9a",
           "#a72197",
           "#ab2494",
           "#b02991",
           "#b32c8e",
           "#b6308b",
           "#bb3488",
           "#be3885",
           "#c13b82",
           "#c5407e",
           "#c8437b",
           "#cb4679",
           "#ce4b75",
           "#d14e72",
           "#d5536f",
           "#d7566c",
           "#da5a6a",
           "#dd5e66",
           "#df6263",
           "#e26561",
           "#e56a5d",
           "#e76e5b",
           "#e97257",
           "#eb7655",
           "#ed7a52",
           "#f07f4f",
           "#f1834c",
           "#f3874a",
           "#f58c46",
           "#f79044",
           "#f89441",
           "#f99a3e",
           "#fa9e3b",
           "#fca338",
           "#fca835",
           "#fdac33",
           "#fdb22f",
           "#feb72d",
           "#febb2b",
           "#fdc229",
           "#fdc627",
           "#fccd25",
           "#fcd225",
           "#fbd724",
           "#f9dd25",
           "#f7e225",
           "#f6e826"
          ],
          "size": 8
         },
         "mode": "markers",
         "type": "scatter",
         "x": [
          2044,
          2050,
          2099,
          2307,
          2308,
          2406,
          2442,
          2842,
          2986,
          3088,
          3160,
          3171,
          3229,
          3239,
          3244,
          3264,
          3295,
          3518,
          3616,
          3782,
          3839,
          3876,
          4010,
          4019,
          4042,
          4056,
          4096,
          4097,
          4099,
          4102,
          4105,
          4108,
          4129,
          4135,
          4176,
          4176,
          4177,
          4178,
          4182,
          4231,
          4249,
          4254,
          4270,
          4277,
          4316,
          4321,
          4330,
          4344,
          4356,
          4388,
          4390,
          4391,
          4407,
          4423,
          4632,
          4635,
          4690,
          4725,
          4726,
          4731,
          4744,
          4770,
          4853,
          4853,
          4858,
          4888,
          4982,
          5067,
          5196,
          5409,
          5510,
          5958,
          7134
         ],
         "y": [
          "hl_100_diff",
          "magap_60_diff",
          "magap_40_diff",
          "magap_100_diff",
          "magap_20_diff",
          "hl_60_diff",
          "magap_2_diff",
          "hl_40_diff",
          "ror_1_diff",
          "atr_10_diff",
          "magap_10_diff",
          "atr_20_diff",
          "atr_5_diff",
          "atr_60_diff",
          "atr_40_diff",
          "atr_100_diff",
          "SectorCode",
          "atr_1_diff",
          "hl_20_diff",
          "magap_5_diff",
          "vola_60_diff",
          "d_atr_1_diff",
          "vola_100_diff",
          "d_atr_5_diff",
          "d_atr_60_diff",
          "d_atr_10_diff",
          "hg_atr_60_diff",
          "ror_5_diff",
          "ror_40_diff",
          "hg_atr_20_diff",
          "d_atr_20_diff",
          "vola_40_diff",
          "mi_100_diff",
          "vola_20_diff",
          "hg_atr_100_diff",
          "mi_1_diff",
          "hg_atr_40_diff",
          "ror_20_diff",
          "hl_1_diff",
          "mi_40_diff",
          "hg_atr_5_diff",
          "mi_20_diff",
          "mi_5_diff",
          "hg_atr_10_diff",
          "ror_60_diff",
          "mi_60_diff",
          "vola_10_diff",
          "d_atr_100_diff",
          "ror_100_diff",
          "ror_10_diff",
          "d_atr_40_diff",
          "hl_10_diff",
          "hg_atr_1_diff",
          "mi_10_diff",
          "qvol_60_diff",
          "qvol_40_diff",
          "qvol_20_diff",
          "qvol_5_diff",
          "lg_atr_20_diff",
          "vola_5_diff",
          "lg_atr_40_diff",
          "qvol_10_diff",
          "lg_atr_5_diff",
          "lg_atr_10_diff",
          "lg_atr_100_diff",
          "lg_atr_60_diff",
          "qvol_100_diff",
          "lg_atr_1_diff",
          "hl_5_diff",
          "dateofweek",
          "qvol_1_diff",
          "vola_2_diff",
          "SecuritiesCode"
         ]
        }
       ],
       "layout": {
        "height": 2000,
        "margin": {
         "l": 120,
         "t": 80
        },
        "shapes": [
         {
          "line": {
           "color": "#16078a",
           "width": 4
          },
          "opacity": 0.7,
          "type": "line",
          "x0": 0,
          "x1": 2044,
          "y0": 0,
          "y1": 0
         },
         {
          "line": {
           "color": "#1d068e",
           "width": 4
          },
          "opacity": 0.7,
          "type": "line",
          "x0": 0,
          "x1": 2050,
          "y0": 1,
          "y1": 1
         },
         {
          "line": {
           "color": "#260591",
           "width": 4
          },
          "opacity": 0.7,
          "type": "line",
          "x0": 0,
          "x1": 2099,
          "y0": 2,
          "y1": 2
         },
         {
          "line": {
           "color": "#2c0594",
           "width": 4
          },
          "opacity": 0.7,
          "type": "line",
          "x0": 0,
          "x1": 2307,
          "y0": 3,
          "y1": 3
         },
         {
          "line": {
           "color": "#310597",
           "width": 4
          },
          "opacity": 0.7,
          "type": "line",
          "x0": 0,
          "x1": 2308,
          "y0": 4,
          "y1": 4
         },
         {
          "line": {
           "color": "#38049a",
           "width": 4
          },
          "opacity": 0.7,
          "type": "line",
          "x0": 0,
          "x1": 2406,
          "y0": 5,
          "y1": 5
         },
         {
          "line": {
           "color": "#3e049c",
           "width": 4
          },
          "opacity": 0.7,
          "type": "line",
          "x0": 0,
          "x1": 2442,
          "y0": 6,
          "y1": 6
         },
         {
          "line": {
           "color": "#43039e",
           "width": 4
          },
          "opacity": 0.7,
          "type": "line",
          "x0": 0,
          "x1": 2842,
          "y0": 7,
          "y1": 7
         },
         {
          "line": {
           "color": "#4903a0",
           "width": 4
          },
          "opacity": 0.7,
          "type": "line",
          "x0": 0,
          "x1": 2986,
          "y0": 8,
          "y1": 8
         },
         {
          "line": {
           "color": "#4e02a2",
           "width": 4
          },
          "opacity": 0.7,
          "type": "line",
          "x0": 0,
          "x1": 3088,
          "y0": 9,
          "y1": 9
         },
         {
          "line": {
           "color": "#5502a4",
           "width": 4
          },
          "opacity": 0.7,
          "type": "line",
          "x0": 0,
          "x1": 3160,
          "y0": 10,
          "y1": 10
         },
         {
          "line": {
           "color": "#5901a5",
           "width": 4
          },
          "opacity": 0.7,
          "type": "line",
          "x0": 0,
          "x1": 3171,
          "y0": 11,
          "y1": 11
         },
         {
          "line": {
           "color": "#5e01a6",
           "width": 4
          },
          "opacity": 0.7,
          "type": "line",
          "x0": 0,
          "x1": 3229,
          "y0": 12,
          "y1": 12
         },
         {
          "line": {
           "color": "#6400a7",
           "width": 4
          },
          "opacity": 0.7,
          "type": "line",
          "x0": 0,
          "x1": 3239,
          "y0": 13,
          "y1": 13
         },
         {
          "line": {
           "color": "#6900a8",
           "width": 4
          },
          "opacity": 0.7,
          "type": "line",
          "x0": 0,
          "x1": 3244,
          "y0": 14,
          "y1": 14
         },
         {
          "line": {
           "color": "#6e00a8",
           "width": 4
          },
          "opacity": 0.7,
          "type": "line",
          "x0": 0,
          "x1": 3264,
          "y0": 15,
          "y1": 15
         },
         {
          "line": {
           "color": "#7401a8",
           "width": 4
          },
          "opacity": 0.7,
          "type": "line",
          "x0": 0,
          "x1": 3295,
          "y0": 16,
          "y1": 16
         },
         {
          "line": {
           "color": "#7801a8",
           "width": 4
          },
          "opacity": 0.7,
          "type": "line",
          "x0": 0,
          "x1": 3518,
          "y0": 17,
          "y1": 17
         },
         {
          "line": {
           "color": "#7d03a8",
           "width": 4
          },
          "opacity": 0.7,
          "type": "line",
          "x0": 0,
          "x1": 3616,
          "y0": 18,
          "y1": 18
         },
         {
          "line": {
           "color": "#8305a7",
           "width": 4
          },
          "opacity": 0.7,
          "type": "line",
          "x0": 0,
          "x1": 3782,
          "y0": 19,
          "y1": 19
         },
         {
          "line": {
           "color": "#8707a6",
           "width": 4
          },
          "opacity": 0.7,
          "type": "line",
          "x0": 0,
          "x1": 3839,
          "y0": 20,
          "y1": 20
         },
         {
          "line": {
           "color": "#8d0ba5",
           "width": 4
          },
          "opacity": 0.7,
          "type": "line",
          "x0": 0,
          "x1": 3876,
          "y0": 21,
          "y1": 21
         },
         {
          "line": {
           "color": "#910ea3",
           "width": 4
          },
          "opacity": 0.7,
          "type": "line",
          "x0": 0,
          "x1": 4010,
          "y0": 22,
          "y1": 22
         },
         {
          "line": {
           "color": "#9511a1",
           "width": 4
          },
          "opacity": 0.7,
          "type": "line",
          "x0": 0,
          "x1": 4019,
          "y0": 23,
          "y1": 23
         },
         {
          "line": {
           "color": "#9a169f",
           "width": 4
          },
          "opacity": 0.7,
          "type": "line",
          "x0": 0,
          "x1": 4042,
          "y0": 24,
          "y1": 24
         },
         {
          "line": {
           "color": "#9e199d",
           "width": 4
          },
          "opacity": 0.7,
          "type": "line",
          "x0": 0,
          "x1": 4056,
          "y0": 25,
          "y1": 25
         },
         {
          "line": {
           "color": "#a21d9a",
           "width": 4
          },
          "opacity": 0.7,
          "type": "line",
          "x0": 0,
          "x1": 4096,
          "y0": 26,
          "y1": 26
         },
         {
          "line": {
           "color": "#a72197",
           "width": 4
          },
          "opacity": 0.7,
          "type": "line",
          "x0": 0,
          "x1": 4097,
          "y0": 27,
          "y1": 27
         },
         {
          "line": {
           "color": "#ab2494",
           "width": 4
          },
          "opacity": 0.7,
          "type": "line",
          "x0": 0,
          "x1": 4099,
          "y0": 28,
          "y1": 28
         },
         {
          "line": {
           "color": "#b02991",
           "width": 4
          },
          "opacity": 0.7,
          "type": "line",
          "x0": 0,
          "x1": 4102,
          "y0": 29,
          "y1": 29
         },
         {
          "line": {
           "color": "#b32c8e",
           "width": 4
          },
          "opacity": 0.7,
          "type": "line",
          "x0": 0,
          "x1": 4105,
          "y0": 30,
          "y1": 30
         },
         {
          "line": {
           "color": "#b6308b",
           "width": 4
          },
          "opacity": 0.7,
          "type": "line",
          "x0": 0,
          "x1": 4108,
          "y0": 31,
          "y1": 31
         },
         {
          "line": {
           "color": "#bb3488",
           "width": 4
          },
          "opacity": 0.7,
          "type": "line",
          "x0": 0,
          "x1": 4129,
          "y0": 32,
          "y1": 32
         },
         {
          "line": {
           "color": "#be3885",
           "width": 4
          },
          "opacity": 0.7,
          "type": "line",
          "x0": 0,
          "x1": 4135,
          "y0": 33,
          "y1": 33
         },
         {
          "line": {
           "color": "#c13b82",
           "width": 4
          },
          "opacity": 0.7,
          "type": "line",
          "x0": 0,
          "x1": 4176,
          "y0": 34,
          "y1": 34
         },
         {
          "line": {
           "color": "#c5407e",
           "width": 4
          },
          "opacity": 0.7,
          "type": "line",
          "x0": 0,
          "x1": 4176,
          "y0": 35,
          "y1": 35
         },
         {
          "line": {
           "color": "#c8437b",
           "width": 4
          },
          "opacity": 0.7,
          "type": "line",
          "x0": 0,
          "x1": 4177,
          "y0": 36,
          "y1": 36
         },
         {
          "line": {
           "color": "#cb4679",
           "width": 4
          },
          "opacity": 0.7,
          "type": "line",
          "x0": 0,
          "x1": 4178,
          "y0": 37,
          "y1": 37
         },
         {
          "line": {
           "color": "#ce4b75",
           "width": 4
          },
          "opacity": 0.7,
          "type": "line",
          "x0": 0,
          "x1": 4182,
          "y0": 38,
          "y1": 38
         },
         {
          "line": {
           "color": "#d14e72",
           "width": 4
          },
          "opacity": 0.7,
          "type": "line",
          "x0": 0,
          "x1": 4231,
          "y0": 39,
          "y1": 39
         },
         {
          "line": {
           "color": "#d5536f",
           "width": 4
          },
          "opacity": 0.7,
          "type": "line",
          "x0": 0,
          "x1": 4249,
          "y0": 40,
          "y1": 40
         },
         {
          "line": {
           "color": "#d7566c",
           "width": 4
          },
          "opacity": 0.7,
          "type": "line",
          "x0": 0,
          "x1": 4254,
          "y0": 41,
          "y1": 41
         },
         {
          "line": {
           "color": "#da5a6a",
           "width": 4
          },
          "opacity": 0.7,
          "type": "line",
          "x0": 0,
          "x1": 4270,
          "y0": 42,
          "y1": 42
         },
         {
          "line": {
           "color": "#dd5e66",
           "width": 4
          },
          "opacity": 0.7,
          "type": "line",
          "x0": 0,
          "x1": 4277,
          "y0": 43,
          "y1": 43
         },
         {
          "line": {
           "color": "#df6263",
           "width": 4
          },
          "opacity": 0.7,
          "type": "line",
          "x0": 0,
          "x1": 4316,
          "y0": 44,
          "y1": 44
         },
         {
          "line": {
           "color": "#e26561",
           "width": 4
          },
          "opacity": 0.7,
          "type": "line",
          "x0": 0,
          "x1": 4321,
          "y0": 45,
          "y1": 45
         },
         {
          "line": {
           "color": "#e56a5d",
           "width": 4
          },
          "opacity": 0.7,
          "type": "line",
          "x0": 0,
          "x1": 4330,
          "y0": 46,
          "y1": 46
         },
         {
          "line": {
           "color": "#e76e5b",
           "width": 4
          },
          "opacity": 0.7,
          "type": "line",
          "x0": 0,
          "x1": 4344,
          "y0": 47,
          "y1": 47
         },
         {
          "line": {
           "color": "#e97257",
           "width": 4
          },
          "opacity": 0.7,
          "type": "line",
          "x0": 0,
          "x1": 4356,
          "y0": 48,
          "y1": 48
         },
         {
          "line": {
           "color": "#eb7655",
           "width": 4
          },
          "opacity": 0.7,
          "type": "line",
          "x0": 0,
          "x1": 4388,
          "y0": 49,
          "y1": 49
         },
         {
          "line": {
           "color": "#ed7a52",
           "width": 4
          },
          "opacity": 0.7,
          "type": "line",
          "x0": 0,
          "x1": 4390,
          "y0": 50,
          "y1": 50
         },
         {
          "line": {
           "color": "#f07f4f",
           "width": 4
          },
          "opacity": 0.7,
          "type": "line",
          "x0": 0,
          "x1": 4391,
          "y0": 51,
          "y1": 51
         },
         {
          "line": {
           "color": "#f1834c",
           "width": 4
          },
          "opacity": 0.7,
          "type": "line",
          "x0": 0,
          "x1": 4407,
          "y0": 52,
          "y1": 52
         },
         {
          "line": {
           "color": "#f3874a",
           "width": 4
          },
          "opacity": 0.7,
          "type": "line",
          "x0": 0,
          "x1": 4423,
          "y0": 53,
          "y1": 53
         },
         {
          "line": {
           "color": "#f58c46",
           "width": 4
          },
          "opacity": 0.7,
          "type": "line",
          "x0": 0,
          "x1": 4632,
          "y0": 54,
          "y1": 54
         },
         {
          "line": {
           "color": "#f79044",
           "width": 4
          },
          "opacity": 0.7,
          "type": "line",
          "x0": 0,
          "x1": 4635,
          "y0": 55,
          "y1": 55
         },
         {
          "line": {
           "color": "#f89441",
           "width": 4
          },
          "opacity": 0.7,
          "type": "line",
          "x0": 0,
          "x1": 4690,
          "y0": 56,
          "y1": 56
         },
         {
          "line": {
           "color": "#f99a3e",
           "width": 4
          },
          "opacity": 0.7,
          "type": "line",
          "x0": 0,
          "x1": 4725,
          "y0": 57,
          "y1": 57
         },
         {
          "line": {
           "color": "#fa9e3b",
           "width": 4
          },
          "opacity": 0.7,
          "type": "line",
          "x0": 0,
          "x1": 4726,
          "y0": 58,
          "y1": 58
         },
         {
          "line": {
           "color": "#fca338",
           "width": 4
          },
          "opacity": 0.7,
          "type": "line",
          "x0": 0,
          "x1": 4731,
          "y0": 59,
          "y1": 59
         },
         {
          "line": {
           "color": "#fca835",
           "width": 4
          },
          "opacity": 0.7,
          "type": "line",
          "x0": 0,
          "x1": 4744,
          "y0": 60,
          "y1": 60
         },
         {
          "line": {
           "color": "#fdac33",
           "width": 4
          },
          "opacity": 0.7,
          "type": "line",
          "x0": 0,
          "x1": 4770,
          "y0": 61,
          "y1": 61
         },
         {
          "line": {
           "color": "#fdb22f",
           "width": 4
          },
          "opacity": 0.7,
          "type": "line",
          "x0": 0,
          "x1": 4853,
          "y0": 62,
          "y1": 62
         },
         {
          "line": {
           "color": "#feb72d",
           "width": 4
          },
          "opacity": 0.7,
          "type": "line",
          "x0": 0,
          "x1": 4853,
          "y0": 63,
          "y1": 63
         },
         {
          "line": {
           "color": "#febb2b",
           "width": 4
          },
          "opacity": 0.7,
          "type": "line",
          "x0": 0,
          "x1": 4858,
          "y0": 64,
          "y1": 64
         },
         {
          "line": {
           "color": "#fdc229",
           "width": 4
          },
          "opacity": 0.7,
          "type": "line",
          "x0": 0,
          "x1": 4888,
          "y0": 65,
          "y1": 65
         },
         {
          "line": {
           "color": "#fdc627",
           "width": 4
          },
          "opacity": 0.7,
          "type": "line",
          "x0": 0,
          "x1": 4982,
          "y0": 66,
          "y1": 66
         },
         {
          "line": {
           "color": "#fccd25",
           "width": 4
          },
          "opacity": 0.7,
          "type": "line",
          "x0": 0,
          "x1": 5067,
          "y0": 67,
          "y1": 67
         },
         {
          "line": {
           "color": "#fcd225",
           "width": 4
          },
          "opacity": 0.7,
          "type": "line",
          "x0": 0,
          "x1": 5196,
          "y0": 68,
          "y1": 68
         },
         {
          "line": {
           "color": "#fbd724",
           "width": 4
          },
          "opacity": 0.7,
          "type": "line",
          "x0": 0,
          "x1": 5409,
          "y0": 69,
          "y1": 69
         },
         {
          "line": {
           "color": "#f9dd25",
           "width": 4
          },
          "opacity": 0.7,
          "type": "line",
          "x0": 0,
          "x1": 5510,
          "y0": 70,
          "y1": 70
         },
         {
          "line": {
           "color": "#f7e225",
           "width": 4
          },
          "opacity": 0.7,
          "type": "line",
          "x0": 0,
          "x1": 5958,
          "y0": 71,
          "y1": 71
         },
         {
          "line": {
           "color": "#f6e826",
           "width": 4
          },
          "opacity": 0.7,
          "type": "line",
          "x0": 0,
          "x1": 7134,
          "y0": 72,
          "y1": 72
         }
        ],
        "template": {
         "data": {
          "bar": [
           {
            "error_x": {
             "color": "#2a3f5f"
            },
            "error_y": {
             "color": "#2a3f5f"
            },
            "marker": {
             "line": {
              "color": "#E5ECF6",
              "width": 0.5
             },
             "pattern": {
              "fillmode": "overlay",
              "size": 10,
              "solidity": 0.2
             }
            },
            "type": "bar"
           }
          ],
          "barpolar": [
           {
            "marker": {
             "line": {
              "color": "#E5ECF6",
              "width": 0.5
             },
             "pattern": {
              "fillmode": "overlay",
              "size": 10,
              "solidity": 0.2
             }
            },
            "type": "barpolar"
           }
          ],
          "carpet": [
           {
            "aaxis": {
             "endlinecolor": "#2a3f5f",
             "gridcolor": "white",
             "linecolor": "white",
             "minorgridcolor": "white",
             "startlinecolor": "#2a3f5f"
            },
            "baxis": {
             "endlinecolor": "#2a3f5f",
             "gridcolor": "white",
             "linecolor": "white",
             "minorgridcolor": "white",
             "startlinecolor": "#2a3f5f"
            },
            "type": "carpet"
           }
          ],
          "choropleth": [
           {
            "colorbar": {
             "outlinewidth": 0,
             "ticks": ""
            },
            "type": "choropleth"
           }
          ],
          "contour": [
           {
            "colorbar": {
             "outlinewidth": 0,
             "ticks": ""
            },
            "colorscale": [
             [
              0,
              "#0d0887"
             ],
             [
              0.1111111111111111,
              "#46039f"
             ],
             [
              0.2222222222222222,
              "#7201a8"
             ],
             [
              0.3333333333333333,
              "#9c179e"
             ],
             [
              0.4444444444444444,
              "#bd3786"
             ],
             [
              0.5555555555555556,
              "#d8576b"
             ],
             [
              0.6666666666666666,
              "#ed7953"
             ],
             [
              0.7777777777777778,
              "#fb9f3a"
             ],
             [
              0.8888888888888888,
              "#fdca26"
             ],
             [
              1,
              "#f0f921"
             ]
            ],
            "type": "contour"
           }
          ],
          "contourcarpet": [
           {
            "colorbar": {
             "outlinewidth": 0,
             "ticks": ""
            },
            "type": "contourcarpet"
           }
          ],
          "heatmap": [
           {
            "colorbar": {
             "outlinewidth": 0,
             "ticks": ""
            },
            "colorscale": [
             [
              0,
              "#0d0887"
             ],
             [
              0.1111111111111111,
              "#46039f"
             ],
             [
              0.2222222222222222,
              "#7201a8"
             ],
             [
              0.3333333333333333,
              "#9c179e"
             ],
             [
              0.4444444444444444,
              "#bd3786"
             ],
             [
              0.5555555555555556,
              "#d8576b"
             ],
             [
              0.6666666666666666,
              "#ed7953"
             ],
             [
              0.7777777777777778,
              "#fb9f3a"
             ],
             [
              0.8888888888888888,
              "#fdca26"
             ],
             [
              1,
              "#f0f921"
             ]
            ],
            "type": "heatmap"
           }
          ],
          "heatmapgl": [
           {
            "colorbar": {
             "outlinewidth": 0,
             "ticks": ""
            },
            "colorscale": [
             [
              0,
              "#0d0887"
             ],
             [
              0.1111111111111111,
              "#46039f"
             ],
             [
              0.2222222222222222,
              "#7201a8"
             ],
             [
              0.3333333333333333,
              "#9c179e"
             ],
             [
              0.4444444444444444,
              "#bd3786"
             ],
             [
              0.5555555555555556,
              "#d8576b"
             ],
             [
              0.6666666666666666,
              "#ed7953"
             ],
             [
              0.7777777777777778,
              "#fb9f3a"
             ],
             [
              0.8888888888888888,
              "#fdca26"
             ],
             [
              1,
              "#f0f921"
             ]
            ],
            "type": "heatmapgl"
           }
          ],
          "histogram": [
           {
            "marker": {
             "pattern": {
              "fillmode": "overlay",
              "size": 10,
              "solidity": 0.2
             }
            },
            "type": "histogram"
           }
          ],
          "histogram2d": [
           {
            "colorbar": {
             "outlinewidth": 0,
             "ticks": ""
            },
            "colorscale": [
             [
              0,
              "#0d0887"
             ],
             [
              0.1111111111111111,
              "#46039f"
             ],
             [
              0.2222222222222222,
              "#7201a8"
             ],
             [
              0.3333333333333333,
              "#9c179e"
             ],
             [
              0.4444444444444444,
              "#bd3786"
             ],
             [
              0.5555555555555556,
              "#d8576b"
             ],
             [
              0.6666666666666666,
              "#ed7953"
             ],
             [
              0.7777777777777778,
              "#fb9f3a"
             ],
             [
              0.8888888888888888,
              "#fdca26"
             ],
             [
              1,
              "#f0f921"
             ]
            ],
            "type": "histogram2d"
           }
          ],
          "histogram2dcontour": [
           {
            "colorbar": {
             "outlinewidth": 0,
             "ticks": ""
            },
            "colorscale": [
             [
              0,
              "#0d0887"
             ],
             [
              0.1111111111111111,
              "#46039f"
             ],
             [
              0.2222222222222222,
              "#7201a8"
             ],
             [
              0.3333333333333333,
              "#9c179e"
             ],
             [
              0.4444444444444444,
              "#bd3786"
             ],
             [
              0.5555555555555556,
              "#d8576b"
             ],
             [
              0.6666666666666666,
              "#ed7953"
             ],
             [
              0.7777777777777778,
              "#fb9f3a"
             ],
             [
              0.8888888888888888,
              "#fdca26"
             ],
             [
              1,
              "#f0f921"
             ]
            ],
            "type": "histogram2dcontour"
           }
          ],
          "mesh3d": [
           {
            "colorbar": {
             "outlinewidth": 0,
             "ticks": ""
            },
            "type": "mesh3d"
           }
          ],
          "parcoords": [
           {
            "line": {
             "colorbar": {
              "outlinewidth": 0,
              "ticks": ""
             }
            },
            "type": "parcoords"
           }
          ],
          "pie": [
           {
            "automargin": true,
            "type": "pie"
           }
          ],
          "scatter": [
           {
            "fillpattern": {
             "fillmode": "overlay",
             "size": 10,
             "solidity": 0.2
            },
            "type": "scatter"
           }
          ],
          "scatter3d": [
           {
            "line": {
             "colorbar": {
              "outlinewidth": 0,
              "ticks": ""
             }
            },
            "marker": {
             "colorbar": {
              "outlinewidth": 0,
              "ticks": ""
             }
            },
            "type": "scatter3d"
           }
          ],
          "scattercarpet": [
           {
            "marker": {
             "colorbar": {
              "outlinewidth": 0,
              "ticks": ""
             }
            },
            "type": "scattercarpet"
           }
          ],
          "scattergeo": [
           {
            "marker": {
             "colorbar": {
              "outlinewidth": 0,
              "ticks": ""
             }
            },
            "type": "scattergeo"
           }
          ],
          "scattergl": [
           {
            "marker": {
             "colorbar": {
              "outlinewidth": 0,
              "ticks": ""
             }
            },
            "type": "scattergl"
           }
          ],
          "scattermapbox": [
           {
            "marker": {
             "colorbar": {
              "outlinewidth": 0,
              "ticks": ""
             }
            },
            "type": "scattermapbox"
           }
          ],
          "scatterpolar": [
           {
            "marker": {
             "colorbar": {
              "outlinewidth": 0,
              "ticks": ""
             }
            },
            "type": "scatterpolar"
           }
          ],
          "scatterpolargl": [
           {
            "marker": {
             "colorbar": {
              "outlinewidth": 0,
              "ticks": ""
             }
            },
            "type": "scatterpolargl"
           }
          ],
          "scatterternary": [
           {
            "marker": {
             "colorbar": {
              "outlinewidth": 0,
              "ticks": ""
             }
            },
            "type": "scatterternary"
           }
          ],
          "surface": [
           {
            "colorbar": {
             "outlinewidth": 0,
             "ticks": ""
            },
            "colorscale": [
             [
              0,
              "#0d0887"
             ],
             [
              0.1111111111111111,
              "#46039f"
             ],
             [
              0.2222222222222222,
              "#7201a8"
             ],
             [
              0.3333333333333333,
              "#9c179e"
             ],
             [
              0.4444444444444444,
              "#bd3786"
             ],
             [
              0.5555555555555556,
              "#d8576b"
             ],
             [
              0.6666666666666666,
              "#ed7953"
             ],
             [
              0.7777777777777778,
              "#fb9f3a"
             ],
             [
              0.8888888888888888,
              "#fdca26"
             ],
             [
              1,
              "#f0f921"
             ]
            ],
            "type": "surface"
           }
          ],
          "table": [
           {
            "cells": {
             "fill": {
              "color": "#EBF0F8"
             },
             "line": {
              "color": "white"
             }
            },
            "header": {
             "fill": {
              "color": "#C8D4E3"
             },
             "line": {
              "color": "white"
             }
            },
            "type": "table"
           }
          ]
         },
         "layout": {
          "font": {
           "family": "Franklin Gothic",
           "size": 12
          },
          "width": 800
         }
        },
        "title": {
         "text": "Overall Feature Importance"
        },
        "width": 800,
        "xaxis": {
         "autorange": true,
         "range": [
          -25.342806394316163,
          7577.499111900533
         ],
         "title": {
          "text": "Average Importance"
         },
         "type": "linear",
         "zeroline": false
        },
        "yaxis": {
         "autorange": true,
         "range": [
          -4.2430133657351154,
          76.24301336573511
         ],
         "showgrid": false,
         "type": "category"
        }
       }
      },
      "image/png": "[encoded data removed]",
      "text/html": [
       "<div>                            <div id=\"c03ddaa1-fefc-419d-a689-9ee7366f34dd\" class=\"plotly-graph-div\" style=\"height:2000px; width:800px;\"></div>            <script type=\"text/javascript\">                require([\"plotly\"], function(Plotly) {                    window.PLOTLYENV=window.PLOTLYENV || {};                                    if (document.getElementById(\"c03ddaa1-fefc-419d-a689-9ee7366f34dd\")) {                    Plotly.newPlot(                        \"c03ddaa1-fefc-419d-a689-9ee7366f34dd\",                        [{\"hovertemplate\":\"%{y} Importance = %{x:.0f}<extra></extra>\",\"marker\":{\"color\":[\"#16078a\",\"#1d068e\",\"#260591\",\"#2c0594\",\"#310597\",\"#38049a\",\"#3e049c\",\"#43039e\",\"#4903a0\",\"#4e02a2\",\"#5502a4\",\"#5901a5\",\"#5e01a6\",\"#6400a7\",\"#6900a8\",\"#6e00a8\",\"#7401a8\",\"#7801a8\",\"#7d03a8\",\"#8305a7\",\"#8707a6\",\"#8d0ba5\",\"#910ea3\",\"#9511a1\",\"#9a169f\",\"#9e199d\",\"#a21d9a\",\"#a72197\",\"#ab2494\",\"#b02991\",\"#b32c8e\",\"#b6308b\",\"#bb3488\",\"#be3885\",\"#c13b82\",\"#c5407e\",\"#c8437b\",\"#cb4679\",\"#ce4b75\",\"#d14e72\",\"#d5536f\",\"#d7566c\",\"#da5a6a\",\"#dd5e66\",\"#df6263\",\"#e26561\",\"#e56a5d\",\"#e76e5b\",\"#e97257\",\"#eb7655\",\"#ed7a52\",\"#f07f4f\",\"#f1834c\",\"#f3874a\",\"#f58c46\",\"#f79044\",\"#f89441\",\"#f99a3e\",\"#fa9e3b\",\"#fca338\",\"#fca835\",\"#fdac33\",\"#fdb22f\",\"#feb72d\",\"#febb2b\",\"#fdc229\",\"#fdc627\",\"#fccd25\",\"#fcd225\",\"#fbd724\",\"#f9dd25\",\"#f7e225\",\"#f6e826\"],\"size\":8},\"mode\":\"markers\",\"x\":[2044,2050,2099,2307,2308,2406,2442,2842,2986,3088,3160,3171,3229,3239,3244,3264,3295,3518,3616,3782,3839,3876,4010,4019,4042,4056,4096,4097,4099,4102,4105,4108,4129,4135,4176,4176,4177,4178,4182,4231,4249,4254,4270,4277,4316,4321,4330,4344,4356,4388,4390,4391,4407,4423,4632,4635,4690,4725,4726,4731,4744,4770,4853,4853,4858,4888,4982,5067,5196,5409,5510,5958,7134],\"y\":[\"hl_100_diff\",\"magap_60_diff\",\"magap_40_diff\",\"magap_100_diff\",\"magap_20_diff\",\"hl_60_diff\",\"magap_2_diff\",\"hl_40_diff\",\"ror_1_diff\",\"atr_10_diff\",\"magap_10_diff\",\"atr_20_diff\",\"atr_5_diff\",\"atr_60_diff\",\"atr_40_diff\",\"atr_100_diff\",\"SectorCode\",\"atr_1_diff\",\"hl_20_diff\",\"magap_5_diff\",\"vola_60_diff\",\"d_atr_1_diff\",\"vola_100_diff\",\"d_atr_5_diff\",\"d_atr_60_diff\",\"d_atr_10_diff\",\"hg_atr_60_diff\",\"ror_5_diff\",\"ror_40_diff\",\"hg_atr_20_diff\",\"d_atr_20_diff\",\"vola_40_diff\",\"mi_100_diff\",\"vola_20_diff\",\"hg_atr_100_diff\",\"mi_1_diff\",\"hg_atr_40_diff\",\"ror_20_diff\",\"hl_1_diff\",\"mi_40_diff\",\"hg_atr_5_diff\",\"mi_20_diff\",\"mi_5_diff\",\"hg_atr_10_diff\",\"ror_60_diff\",\"mi_60_diff\",\"vola_10_diff\",\"d_atr_100_diff\",\"ror_100_diff\",\"ror_10_diff\",\"d_atr_40_diff\",\"hl_10_diff\",\"hg_atr_1_diff\",\"mi_10_diff\",\"qvol_60_diff\",\"qvol_40_diff\",\"qvol_20_diff\",\"qvol_5_diff\",\"lg_atr_20_diff\",\"vola_5_diff\",\"lg_atr_40_diff\",\"qvol_10_diff\",\"lg_atr_5_diff\",\"lg_atr_10_diff\",\"lg_atr_100_diff\",\"lg_atr_60_diff\",\"qvol_100_diff\",\"lg_atr_1_diff\",\"hl_5_diff\",\"dateofweek\",\"qvol_1_diff\",\"vola_2_diff\",\"SecuritiesCode\"],\"type\":\"scatter\"}],                        {\"template\":{\"data\":{\"histogram2dcontour\":[{\"type\":\"histogram2dcontour\",\"colorbar\":{\"outlinewidth\":0,\"ticks\":\"\"},\"colorscale\":[[0.0,\"#0d0887\"],[0.1111111111111111,\"#46039f\"],[0.2222222222222222,\"#7201a8\"],[0.3333333333333333,\"#9c179e\"],[0.4444444444444444,\"#bd3786\"],[0.5555555555555556,\"#d8576b\"],[0.6666666666666666,\"#ed7953\"],[0.7777777777777778,\"#fb9f3a\"],[0.8888888888888888,\"#fdca26\"],[1.0,\"#f0f921\"]]}],\"choropleth\":[{\"type\":\"choropleth\",\"colorbar\":{\"outlinewidth\":0,\"ticks\":\"\"}}],\"histogram2d\":[{\"type\":\"histogram2d\",\"colorbar\":{\"outlinewidth\":0,\"ticks\":\"\"},\"colorscale\":[[0.0,\"#0d0887\"],[0.1111111111111111,\"#46039f\"],[0.2222222222222222,\"#7201a8\"],[0.3333333333333333,\"#9c179e\"],[0.4444444444444444,\"#bd3786\"],[0.5555555555555556,\"#d8576b\"],[0.6666666666666666,\"#ed7953\"],[0.7777777777777778,\"#fb9f3a\"],[0.8888888888888888,\"#fdca26\"],[1.0,\"#f0f921\"]]}],\"heatmap\":[{\"type\":\"heatmap\",\"colorbar\":{\"outlinewidth\":0,\"ticks\":\"\"},\"colorscale\":[[0.0,\"#0d0887\"],[0.1111111111111111,\"#46039f\"],[0.2222222222222222,\"#7201a8\"],[0.3333333333333333,\"#9c179e\"],[0.4444444444444444,\"#bd3786\"],[0.5555555555555556,\"#d8576b\"],[0.6666666666666666,\"#ed7953\"],[0.7777777777777778,\"#fb9f3a\"],[0.8888888888888888,\"#fdca26\"],[1.0,\"#f0f921\"]]}],\"heatmapgl\":[{\"type\":\"heatmapgl\",\"colorbar\":{\"outlinewidth\":0,\"ticks\":\"\"},\"colorscale\":[[0.0,\"#0d0887\"],[0.1111111111111111,\"#46039f\"],[0.2222222222222222,\"#7201a8\"],[0.3333333333333333,\"#9c179e\"],[0.4444444444444444,\"#bd3786\"],[0.5555555555555556,\"#d8576b\"],[0.6666666666666666,\"#ed7953\"],[0.7777777777777778,\"#fb9f3a\"],[0.8888888888888888,\"#fdca26\"],[1.0,\"#f0f921\"]]}],\"contourcarpet\":[{\"type\":\"contourcarpet\",\"colorbar\":{\"outlinewidth\":0,\"ticks\":\"\"}}],\"contour\":[{\"type\":\"contour\",\"colorbar\":{\"outlinewidth\":0,\"ticks\":\"\"},\"colorscale\":[[0.0,\"#0d0887\"],[0.1111111111111111,\"#46039f\"],[0.2222222222222222,\"#7201a8\"],[0.3333333333333333,\"#9c179e\"],[0.4444444444444444,\"#bd3786\"],[0.5555555555555556,\"#d8576b\"],[0.6666666666666666,\"#ed7953\"],[0.7777777777777778,\"#fb9f3a\"],[0.8888888888888888,\"#fdca26\"],[1.0,\"#f0f921\"]]}],\"surface\":[{\"type\":\"surface\",\"colorbar\":{\"outlinewidth\":0,\"ticks\":\"\"},\"colorscale\":[[0.0,\"#0d0887\"],[0.1111111111111111,\"#46039f\"],[0.2222222222222222,\"#7201a8\"],[0.3333333333333333,\"#9c179e\"],[0.4444444444444444,\"#bd3786\"],[0.5555555555555556,\"#d8576b\"],[0.6666666666666666,\"#ed7953\"],[0.7777777777777778,\"#fb9f3a\"],[0.8888888888888888,\"#fdca26\"],[1.0,\"#f0f921\"]]}],\"mesh3d\":[{\"type\":\"mesh3d\",\"colorbar\":{\"outlinewidth\":0,\"ticks\":\"\"}}],\"scatter\":[{\"fillpattern\":{\"fillmode\":\"overlay\",\"size\":10,\"solidity\":0.2},\"type\":\"scatter\"}],\"parcoords\":[{\"type\":\"parcoords\",\"line\":{\"colorbar\":{\"outlinewidth\":0,\"ticks\":\"\"}}}],\"scatterpolargl\":[{\"type\":\"scatterpolargl\",\"marker\":{\"colorbar\":{\"outlinewidth\":0,\"ticks\":\"\"}}}],\"bar\":[{\"error_x\":{\"color\":\"#2a3f5f\"},\"error_y\":{\"color\":\"#2a3f5f\"},\"marker\":{\"line\":{\"color\":\"#E5ECF6\",\"width\":0.5},\"pattern\":{\"fillmode\":\"overlay\",\"size\":10,\"solidity\":0.2}},\"type\":\"bar\"}],\"scattergeo\":[{\"type\":\"scattergeo\",\"marker\":{\"colorbar\":{\"outlinewidth\":0,\"ticks\":\"\"}}}],\"scatterpolar\":[{\"type\":\"scatterpolar\",\"marker\":{\"colorbar\":{\"outlinewidth\":0,\"ticks\":\"\"}}}],\"histogram\":[{\"marker\":{\"pattern\":{\"fillmode\":\"overlay\",\"size\":10,\"solidity\":0.2}},\"type\":\"histogram\"}],\"scattergl\":[{\"type\":\"scattergl\",\"marker\":{\"colorbar\":{\"outlinewidth\":0,\"ticks\":\"\"}}}],\"scatter3d\":[{\"type\":\"scatter3d\",\"line\":{\"colorbar\":{\"outlinewidth\":0,\"ticks\":\"\"}},\"marker\":{\"colorbar\":{\"outlinewidth\":0,\"ticks\":\"\"}}}],\"scattermapbox\":[{\"type\":\"scattermapbox\",\"marker\":{\"colorbar\":{\"outlinewidth\":0,\"ticks\":\"\"}}}],\"scatterternary\":[{\"type\":\"scatterternary\",\"marker\":{\"colorbar\":{\"outlinewidth\":0,\"ticks\":\"\"}}}],\"scattercarpet\":[{\"type\":\"scattercarpet\",\"marker\":{\"colorbar\":{\"outlinewidth\":0,\"ticks\":\"\"}}}],\"carpet\":[{\"aaxis\":{\"endlinecolor\":\"#2a3f5f\",\"gridcolor\":\"white\",\"linecolor\":\"white\",\"minorgridcolor\":\"white\",\"startlinecolor\":\"#2a3f5f\"},\"baxis\":{\"endlinecolor\":\"#2a3f5f\",\"gridcolor\":\"white\",\"linecolor\":\"white\",\"minorgridcolor\":\"white\",\"startlinecolor\":\"#2a3f5f\"},\"type\":\"carpet\"}],\"table\":[{\"cells\":{\"fill\":{\"color\":\"#EBF0F8\"},\"line\":{\"color\":\"white\"}},\"header\":{\"fill\":{\"color\":\"#C8D4E3\"},\"line\":{\"color\":\"white\"}},\"type\":\"table\"}],\"barpolar\":[{\"marker\":{\"line\":{\"color\":\"#E5ECF6\",\"width\":0.5},\"pattern\":{\"fillmode\":\"overlay\",\"size\":10,\"solidity\":0.2}},\"type\":\"barpolar\"}],\"pie\":[{\"automargin\":true,\"type\":\"pie\"}]},\"layout\":{\"font\":{\"family\":\"Franklin Gothic\",\"size\":12},\"width\":800}},\"shapes\":[{\"line\":{\"color\":\"#16078a\",\"width\":4},\"opacity\":0.7,\"type\":\"line\",\"x0\":0,\"x1\":2044,\"y0\":0,\"y1\":0},{\"line\":{\"color\":\"#1d068e\",\"width\":4},\"opacity\":0.7,\"type\":\"line\",\"x0\":0,\"x1\":2050,\"y0\":1,\"y1\":1},{\"line\":{\"color\":\"#260591\",\"width\":4},\"opacity\":0.7,\"type\":\"line\",\"x0\":0,\"x1\":2099,\"y0\":2,\"y1\":2},{\"line\":{\"color\":\"#2c0594\",\"width\":4},\"opacity\":0.7,\"type\":\"line\",\"x0\":0,\"x1\":2307,\"y0\":3,\"y1\":3},{\"line\":{\"color\":\"#310597\",\"width\":4},\"opacity\":0.7,\"type\":\"line\",\"x0\":0,\"x1\":2308,\"y0\":4,\"y1\":4},{\"line\":{\"color\":\"#38049a\",\"width\":4},\"opacity\":0.7,\"type\":\"line\",\"x0\":0,\"x1\":2406,\"y0\":5,\"y1\":5},{\"line\":{\"color\":\"#3e049c\",\"width\":4},\"opacity\":0.7,\"type\":\"line\",\"x0\":0,\"x1\":2442,\"y0\":6,\"y1\":6},{\"line\":{\"color\":\"#43039e\",\"width\":4},\"opacity\":0.7,\"type\":\"line\",\"x0\":0,\"x1\":2842,\"y0\":7,\"y1\":7},{\"line\":{\"color\":\"#4903a0\",\"width\":4},\"opacity\":0.7,\"type\":\"line\",\"x0\":0,\"x1\":2986,\"y0\":8,\"y1\":8},{\"line\":{\"color\":\"#4e02a2\",\"width\":4},\"opacity\":0.7,\"type\":\"line\",\"x0\":0,\"x1\":3088,\"y0\":9,\"y1\":9},{\"line\":{\"color\":\"#5502a4\",\"width\":4},\"opacity\":0.7,\"type\":\"line\",\"x0\":0,\"x1\":3160,\"y0\":10,\"y1\":10},{\"line\":{\"color\":\"#5901a5\",\"width\":4},\"opacity\":0.7,\"type\":\"line\",\"x0\":0,\"x1\":3171,\"y0\":11,\"y1\":11},{\"line\":{\"color\":\"#5e01a6\",\"width\":4},\"opacity\":0.7,\"type\":\"line\",\"x0\":0,\"x1\":3229,\"y0\":12,\"y1\":12},{\"line\":{\"color\":\"#6400a7\",\"width\":4},\"opacity\":0.7,\"type\":\"line\",\"x0\":0,\"x1\":3239,\"y0\":13,\"y1\":13},{\"line\":{\"color\":\"#6900a8\",\"width\":4},\"opacity\":0.7,\"type\":\"line\",\"x0\":0,\"x1\":3244,\"y0\":14,\"y1\":14},{\"line\":{\"color\":\"#6e00a8\",\"width\":4},\"opacity\":0.7,\"type\":\"line\",\"x0\":0,\"x1\":3264,\"y0\":15,\"y1\":15},{\"line\":{\"color\":\"#7401a8\",\"width\":4},\"opacity\":0.7,\"type\":\"line\",\"x0\":0,\"x1\":3295,\"y0\":16,\"y1\":16},{\"line\":{\"color\":\"#7801a8\",\"width\":4},\"opacity\":0.7,\"type\":\"line\",\"x0\":0,\"x1\":3518,\"y0\":17,\"y1\":17},{\"line\":{\"color\":\"#7d03a8\",\"width\":4},\"opacity\":0.7,\"type\":\"line\",\"x0\":0,\"x1\":3616,\"y0\":18,\"y1\":18},{\"line\":{\"color\":\"#8305a7\",\"width\":4},\"opacity\":0.7,\"type\":\"line\",\"x0\":0,\"x1\":3782,\"y0\":19,\"y1\":19},{\"line\":{\"color\":\"#8707a6\",\"width\":4},\"opacity\":0.7,\"type\":\"line\",\"x0\":0,\"x1\":3839,\"y0\":20,\"y1\":20},{\"line\":{\"color\":\"#8d0ba5\",\"width\":4},\"opacity\":0.7,\"type\":\"line\",\"x0\":0,\"x1\":3876,\"y0\":21,\"y1\":21},{\"line\":{\"color\":\"#910ea3\",\"width\":4},\"opacity\":0.7,\"type\":\"line\",\"x0\":0,\"x1\":4010,\"y0\":22,\"y1\":22},{\"line\":{\"color\":\"#9511a1\",\"width\":4},\"opacity\":0.7,\"type\":\"line\",\"x0\":0,\"x1\":4019,\"y0\":23,\"y1\":23},{\"line\":{\"color\":\"#9a169f\",\"width\":4},\"opacity\":0.7,\"type\":\"line\",\"x0\":0,\"x1\":4042,\"y0\":24,\"y1\":24},{\"line\":{\"color\":\"#9e199d\",\"width\":4},\"opacity\":0.7,\"type\":\"line\",\"x0\":0,\"x1\":4056,\"y0\":25,\"y1\":25},{\"line\":{\"color\":\"#a21d9a\",\"width\":4},\"opacity\":0.7,\"type\":\"line\",\"x0\":0,\"x1\":4096,\"y0\":26,\"y1\":26},{\"line\":{\"color\":\"#a72197\",\"width\":4},\"opacity\":0.7,\"type\":\"line\",\"x0\":0,\"x1\":4097,\"y0\":27,\"y1\":27},{\"line\":{\"color\":\"#ab2494\",\"width\":4},\"opacity\":0.7,\"type\":\"line\",\"x0\":0,\"x1\":4099,\"y0\":28,\"y1\":28},{\"line\":{\"color\":\"#b02991\",\"width\":4},\"opacity\":0.7,\"type\":\"line\",\"x0\":0,\"x1\":4102,\"y0\":29,\"y1\":29},{\"line\":{\"color\":\"#b32c8e\",\"width\":4},\"opacity\":0.7,\"type\":\"line\",\"x0\":0,\"x1\":4105,\"y0\":30,\"y1\":30},{\"line\":{\"color\":\"#b6308b\",\"width\":4},\"opacity\":0.7,\"type\":\"line\",\"x0\":0,\"x1\":4108,\"y0\":31,\"y1\":31},{\"line\":{\"color\":\"#bb3488\",\"width\":4},\"opacity\":0.7,\"type\":\"line\",\"x0\":0,\"x1\":4129,\"y0\":32,\"y1\":32},{\"line\":{\"color\":\"#be3885\",\"width\":4},\"opacity\":0.7,\"type\":\"line\",\"x0\":0,\"x1\":4135,\"y0\":33,\"y1\":33},{\"line\":{\"color\":\"#c13b82\",\"width\":4},\"opacity\":0.7,\"type\":\"line\",\"x0\":0,\"x1\":4176,\"y0\":34,\"y1\":34},{\"line\":{\"color\":\"#c5407e\",\"width\":4},\"opacity\":0.7,\"type\":\"line\",\"x0\":0,\"x1\":4176,\"y0\":35,\"y1\":35},{\"line\":{\"color\":\"#c8437b\",\"width\":4},\"opacity\":0.7,\"type\":\"line\",\"x0\":0,\"x1\":4177,\"y0\":36,\"y1\":36},{\"line\":{\"color\":\"#cb4679\",\"width\":4},\"opacity\":0.7,\"type\":\"line\",\"x0\":0,\"x1\":4178,\"y0\":37,\"y1\":37},{\"line\":{\"color\":\"#ce4b75\",\"width\":4},\"opacity\":0.7,\"type\":\"line\",\"x0\":0,\"x1\":4182,\"y0\":38,\"y1\":38},{\"line\":{\"color\":\"#d14e72\",\"width\":4},\"opacity\":0.7,\"type\":\"line\",\"x0\":0,\"x1\":4231,\"y0\":39,\"y1\":39},{\"line\":{\"color\":\"#d5536f\",\"width\":4},\"opacity\":0.7,\"type\":\"line\",\"x0\":0,\"x1\":4249,\"y0\":40,\"y1\":40},{\"line\":{\"color\":\"#d7566c\",\"width\":4},\"opacity\":0.7,\"type\":\"line\",\"x0\":0,\"x1\":4254,\"y0\":41,\"y1\":41},{\"line\":{\"color\":\"#da5a6a\",\"width\":4},\"opacity\":0.7,\"type\":\"line\",\"x0\":0,\"x1\":4270,\"y0\":42,\"y1\":42},{\"line\":{\"color\":\"#dd5e66\",\"width\":4},\"opacity\":0.7,\"type\":\"line\",\"x0\":0,\"x1\":4277,\"y0\":43,\"y1\":43},{\"line\":{\"color\":\"#df6263\",\"width\":4},\"opacity\":0.7,\"type\":\"line\",\"x0\":0,\"x1\":4316,\"y0\":44,\"y1\":44},{\"line\":{\"color\":\"#e26561\",\"width\":4},\"opacity\":0.7,\"type\":\"line\",\"x0\":0,\"x1\":4321,\"y0\":45,\"y1\":45},{\"line\":{\"color\":\"#e56a5d\",\"width\":4},\"opacity\":0.7,\"type\":\"line\",\"x0\":0,\"x1\":4330,\"y0\":46,\"y1\":46},{\"line\":{\"color\":\"#e76e5b\",\"width\":4},\"opacity\":0.7,\"type\":\"line\",\"x0\":0,\"x1\":4344,\"y0\":47,\"y1\":47},{\"line\":{\"color\":\"#e97257\",\"width\":4},\"opacity\":0.7,\"type\":\"line\",\"x0\":0,\"x1\":4356,\"y0\":48,\"y1\":48},{\"line\":{\"color\":\"#eb7655\",\"width\":4},\"opacity\":0.7,\"type\":\"line\",\"x0\":0,\"x1\":4388,\"y0\":49,\"y1\":49},{\"line\":{\"color\":\"#ed7a52\",\"width\":4},\"opacity\":0.7,\"type\":\"line\",\"x0\":0,\"x1\":4390,\"y0\":50,\"y1\":50},{\"line\":{\"color\":\"#f07f4f\",\"width\":4},\"opacity\":0.7,\"type\":\"line\",\"x0\":0,\"x1\":4391,\"y0\":51,\"y1\":51},{\"line\":{\"color\":\"#f1834c\",\"width\":4},\"opacity\":0.7,\"type\":\"line\",\"x0\":0,\"x1\":4407,\"y0\":52,\"y1\":52},{\"line\":{\"color\":\"#f3874a\",\"width\":4},\"opacity\":0.7,\"type\":\"line\",\"x0\":0,\"x1\":4423,\"y0\":53,\"y1\":53},{\"line\":{\"color\":\"#f58c46\",\"width\":4},\"opacity\":0.7,\"type\":\"line\",\"x0\":0,\"x1\":4632,\"y0\":54,\"y1\":54},{\"line\":{\"color\":\"#f79044\",\"width\":4},\"opacity\":0.7,\"type\":\"line\",\"x0\":0,\"x1\":4635,\"y0\":55,\"y1\":55},{\"line\":{\"color\":\"#f89441\",\"width\":4},\"opacity\":0.7,\"type\":\"line\",\"x0\":0,\"x1\":4690,\"y0\":56,\"y1\":56},{\"line\":{\"color\":\"#f99a3e\",\"width\":4},\"opacity\":0.7,\"type\":\"line\",\"x0\":0,\"x1\":4725,\"y0\":57,\"y1\":57},{\"line\":{\"color\":\"#fa9e3b\",\"width\":4},\"opacity\":0.7,\"type\":\"line\",\"x0\":0,\"x1\":4726,\"y0\":58,\"y1\":58},{\"line\":{\"color\":\"#fca338\",\"width\":4},\"opacity\":0.7,\"type\":\"line\",\"x0\":0,\"x1\":4731,\"y0\":59,\"y1\":59},{\"line\":{\"color\":\"#fca835\",\"width\":4},\"opacity\":0.7,\"type\":\"line\",\"x0\":0,\"x1\":4744,\"y0\":60,\"y1\":60},{\"line\":{\"color\":\"#fdac33\",\"width\":4},\"opacity\":0.7,\"type\":\"line\",\"x0\":0,\"x1\":4770,\"y0\":61,\"y1\":61},{\"line\":{\"color\":\"#fdb22f\",\"width\":4},\"opacity\":0.7,\"type\":\"line\",\"x0\":0,\"x1\":4853,\"y0\":62,\"y1\":62},{\"line\":{\"color\":\"#feb72d\",\"width\":4},\"opacity\":0.7,\"type\":\"line\",\"x0\":0,\"x1\":4853,\"y0\":63,\"y1\":63},{\"line\":{\"color\":\"#febb2b\",\"width\":4},\"opacity\":0.7,\"type\":\"line\",\"x0\":0,\"x1\":4858,\"y0\":64,\"y1\":64},{\"line\":{\"color\":\"#fdc229\",\"width\":4},\"opacity\":0.7,\"type\":\"line\",\"x0\":0,\"x1\":4888,\"y0\":65,\"y1\":65},{\"line\":{\"color\":\"#fdc627\",\"width\":4},\"opacity\":0.7,\"type\":\"line\",\"x0\":0,\"x1\":4982,\"y0\":66,\"y1\":66},{\"line\":{\"color\":\"#fccd25\",\"width\":4},\"opacity\":0.7,\"type\":\"line\",\"x0\":0,\"x1\":5067,\"y0\":67,\"y1\":67},{\"line\":{\"color\":\"#fcd225\",\"width\":4},\"opacity\":0.7,\"type\":\"line\",\"x0\":0,\"x1\":5196,\"y0\":68,\"y1\":68},{\"line\":{\"color\":\"#fbd724\",\"width\":4},\"opacity\":0.7,\"type\":\"line\",\"x0\":0,\"x1\":5409,\"y0\":69,\"y1\":69},{\"line\":{\"color\":\"#f9dd25\",\"width\":4},\"opacity\":0.7,\"type\":\"line\",\"x0\":0,\"x1\":5510,\"y0\":70,\"y1\":70},{\"line\":{\"color\":\"#f7e225\",\"width\":4},\"opacity\":0.7,\"type\":\"line\",\"x0\":0,\"x1\":5958,\"y0\":71,\"y1\":71},{\"line\":{\"color\":\"#f6e826\",\"width\":4},\"opacity\":0.7,\"type\":\"line\",\"x0\":0,\"x1\":7134,\"y0\":72,\"y1\":72}],\"xaxis\":{\"title\":{\"text\":\"Average Importance\"},\"zeroline\":false},\"yaxis\":{\"showgrid\":false},\"margin\":{\"l\":120,\"t\":80},\"title\":{\"text\":\"Overall Feature Importance\"},\"height\":2000,\"width\":800},                        {\"responsive\": true}                    ).then(function(){\n",
       "                            \n",
       "var gd = document.getElementById('c03ddaa1-fefc-419d-a689-9ee7366f34dd');\n",
       "var x = new MutationObserver(function (mutations, observer) {{\n",
       "        var display = window.getComputedStyle(gd).display;\n",
       "        if (!display || display === 'none') {{\n",
       "            console.log([gd, 'removed!']);\n",
       "            Plotly.purge(gd);\n",
       "            observer.disconnect();\n",
       "        }}\n",
       "}});\n",
       "\n",
       "// Listen for the removal of the full notebook cells\n",
       "var notebookContainer = gd.closest('#notebook-container');\n",
       "if (notebookContainer) {{\n",
       "    x.observe(notebookContainer, {childList: true});\n",
       "}}\n",
       "\n",
       "// Listen for the clearing of the current output cell\n",
       "var outputEl = gd.closest('.output');\n",
       "if (outputEl) {{\n",
       "    x.observe(outputEl, {childList: true});\n",
       "}}\n",
       "\n",
       "                        })                };                });            </script>        </div>"
      ]
     },
     "metadata": {},
     "output_type": "display_data"
    },
    {
     "name": "stderr",
     "output_type": "stream",
     "text": [
      "0it [00:00, ?it/s]"
     ]
    },
    {
     "name": "stdout",
     "output_type": "stream",
     "text": [
      "This version of the API is not optimized and should not be used to estimate the runtime of your code on the hidden test set.\n",
      "Target date = 2021-12-06\n"
     ]
    },
    {
     "name": "stderr",
     "output_type": "stream",
     "text": [
      "1it [00:00,  2.55it/s]"
     ]
    },
    {
     "name": "stdout",
     "output_type": "stream",
     "text": [
      "Target date = 2021-12-07\n"
     ]
    },
    {
     "name": "stderr",
     "output_type": "stream",
     "text": [
      "2it [00:00,  3.01it/s]\n"
     ]
    }
   ],
   "source": [
    "# Test config\n",
    "load_csv = False    # Load CSV\n",
    "adjustment = False  # Adjust values\n",
    "prepare_sharpe = False\n",
    "prepare_df = False   # Prepare features dataframe\n",
    "run_cv = False      # Run training and cross validation\n",
    "run_all = True      # Run training for entire training data without validation\n",
    "submit = True     # Simulate submission\n",
    "\n",
    "# Fool proof\n",
    "if submit == True:\n",
    "    load_csv = True\n",
    "    adjustment = True\n",
    "    prepare_sharpe = True\n",
    "    prepare_df = True\n",
    "    run_cv = False\n",
    "    run_all = True\n",
    "\n",
    "pd.options.display.max_rows = 100\n",
    "pd.options.display.max_columns = None\n",
    "\n",
    "    # Read data from CSV file and save to pickle file\n",
    "if load_csv == True:\n",
    "    load_data()\n",
    "    gc.collect()\n",
    "\n",
    "# Apply adjustment factor and save to pickle file\n",
    "if adjustment == True:\n",
    "    adjust_data()\n",
    "    gc.collect()\n",
    "\n",
    "# Calc sharpe\n",
    "if prepare_sharpe == True:\n",
    "    calc_sharpe()\n",
    "    gc.collect()\n",
    "    \n",
    "# Calc features and save to pickle file\n",
    "if prepare_df == True:\n",
    "    calc_features()\n",
    "    gc.collect()\n",
    "\n",
    "# Run training with CV\n",
    "if run_cv:\n",
    "    run_train_cv()\n",
    "    gc.collect\n",
    "\n",
    "# Run training with all training data\n",
    "if run_all:\n",
    "    run_train_all()\n",
    "    gc.collect()\n",
    "\n",
    "# Submit\n",
    "if submit == True:\n",
    "    simulate_submit()\n",
    "    gc.collect()"
   ]
  }
 ],
 "metadata": {
  "kernelspec": {
   "display_name": "Python 3",
   "language": "python",
   "name": "python3"
  },
  "language_info": {
   "codemirror_mode": {
    "name": "ipython",
    "version": 3
   },
   "file_extension": ".py",
   "mimetype": "text/x-python",
   "name": "python",
   "nbconvert_exporter": "python",
   "pygments_lexer": "ipython3",
   "version": "3.6.13"
  }
 },
 "nbformat": 4,
 "nbformat_minor": 4
}
